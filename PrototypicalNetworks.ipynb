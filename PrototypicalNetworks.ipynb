{
  "cells": [
    {
      "cell_type": "markdown",
      "metadata": {
        "id": "view-in-github",
        "colab_type": "text"
      },
      "source": [
        "<a href=\"https://colab.research.google.com/github/siyeol/Few-Shot-Learning/blob/main/PrototypicalNetworks.ipynb\" target=\"_parent\"><img src=\"https://colab.research.google.com/assets/colab-badge.svg\" alt=\"Open In Colab\"/></a>"
      ]
    },
    {
      "cell_type": "code",
      "execution_count": null,
      "metadata": {
        "colab": {
          "base_uri": "https://localhost:8080/"
        },
        "id": "iSOB2h5IHE2X",
        "outputId": "d523e393-d96d-422e-f0d2-8816faff3797"
      },
      "outputs": [
        {
          "name": "stdout",
          "output_type": "stream",
          "text": [
            "Collecting easyfsl\n",
            "  Downloading easyfsl-1.0.0-py3-none-any.whl (49 kB)\n",
            "\u001b[?25l\r\u001b[K     |██████▋                         | 10 kB 19.3 MB/s eta 0:00:01\r\u001b[K     |█████████████▎                  | 20 kB 12.3 MB/s eta 0:00:01\r\u001b[K     |████████████████████            | 30 kB 9.3 MB/s eta 0:00:01\r\u001b[K     |██████████████████████████▋     | 40 kB 8.2 MB/s eta 0:00:01\r\u001b[K     |████████████████████████████████| 49 kB 2.0 MB/s \n",
            "\u001b[?25hRequirement already satisfied: pandas>=1.1.0 in /usr/local/lib/python3.7/dist-packages (from easyfsl) (1.3.5)\n",
            "Requirement already satisfied: tqdm>=4.1.0 in /usr/local/lib/python3.7/dist-packages (from easyfsl) (4.64.0)\n",
            "Requirement already satisfied: torchvision>=0.7.0 in /usr/local/lib/python3.7/dist-packages (from easyfsl) (0.12.0+cu113)\n",
            "Requirement already satisfied: torch>=1.4.0 in /usr/local/lib/python3.7/dist-packages (from easyfsl) (1.11.0+cu113)\n",
            "Requirement already satisfied: matplotlib>=3.0.0 in /usr/local/lib/python3.7/dist-packages (from easyfsl) (3.2.2)\n",
            "Requirement already satisfied: python-dateutil>=2.1 in /usr/local/lib/python3.7/dist-packages (from matplotlib>=3.0.0->easyfsl) (2.8.2)\n",
            "Requirement already satisfied: kiwisolver>=1.0.1 in /usr/local/lib/python3.7/dist-packages (from matplotlib>=3.0.0->easyfsl) (1.4.2)\n",
            "Requirement already satisfied: numpy>=1.11 in /usr/local/lib/python3.7/dist-packages (from matplotlib>=3.0.0->easyfsl) (1.21.6)\n",
            "Requirement already satisfied: cycler>=0.10 in /usr/local/lib/python3.7/dist-packages (from matplotlib>=3.0.0->easyfsl) (0.11.0)\n",
            "Requirement already satisfied: pyparsing!=2.0.4,!=2.1.2,!=2.1.6,>=2.0.1 in /usr/local/lib/python3.7/dist-packages (from matplotlib>=3.0.0->easyfsl) (3.0.8)\n",
            "Requirement already satisfied: typing-extensions in /usr/local/lib/python3.7/dist-packages (from kiwisolver>=1.0.1->matplotlib>=3.0.0->easyfsl) (4.2.0)\n",
            "Requirement already satisfied: pytz>=2017.3 in /usr/local/lib/python3.7/dist-packages (from pandas>=1.1.0->easyfsl) (2022.1)\n",
            "Requirement already satisfied: six>=1.5 in /usr/local/lib/python3.7/dist-packages (from python-dateutil>=2.1->matplotlib>=3.0.0->easyfsl) (1.15.0)\n",
            "Requirement already satisfied: pillow!=8.3.*,>=5.3.0 in /usr/local/lib/python3.7/dist-packages (from torchvision>=0.7.0->easyfsl) (7.1.2)\n",
            "Requirement already satisfied: requests in /usr/local/lib/python3.7/dist-packages (from torchvision>=0.7.0->easyfsl) (2.23.0)\n",
            "Requirement already satisfied: certifi>=2017.4.17 in /usr/local/lib/python3.7/dist-packages (from requests->torchvision>=0.7.0->easyfsl) (2021.10.8)\n",
            "Requirement already satisfied: chardet<4,>=3.0.2 in /usr/local/lib/python3.7/dist-packages (from requests->torchvision>=0.7.0->easyfsl) (3.0.4)\n",
            "Requirement already satisfied: urllib3!=1.25.0,!=1.25.1,<1.26,>=1.21.1 in /usr/local/lib/python3.7/dist-packages (from requests->torchvision>=0.7.0->easyfsl) (1.24.3)\n",
            "Requirement already satisfied: idna<3,>=2.5 in /usr/local/lib/python3.7/dist-packages (from requests->torchvision>=0.7.0->easyfsl) (2.10)\n",
            "Installing collected packages: easyfsl\n",
            "Successfully installed easyfsl-1.0.0\n"
          ]
        }
      ],
      "source": [
        "!pip install easyfsl\n",
        "\n",
        "import torch\n",
        "from torch import nn, optim\n",
        "from torch.utils.data import DataLoader\n",
        "from torchvision import transforms\n",
        "from torchvision.datasets import Omniglot,MNIST\n",
        "from torchvision.models import resnet18\n",
        "from tqdm import tqdm\n",
        "import numpy as np\n",
        "from easyfsl.data_tools import TaskSampler\n",
        "from easyfsl.utils import plot_images, sliding_average"
      ]
    },
    {
      "cell_type": "markdown",
      "metadata": {
        "id": "O_qYQ-QPa3KE"
      },
      "source": [
        "# Define Model / Prototypical Networks"
      ]
    },
    {
      "cell_type": "markdown",
      "metadata": {
        "id": "irzrfFPfHHZO"
      },
      "source": [
        "Reference: https://www.sicara.fr/blog/your-few-shot-model-15mn-pytorch\n"
      ]
    },
    {
      "cell_type": "code",
      "execution_count": null,
      "metadata": {
        "colab": {
          "base_uri": "https://localhost:8080/",
          "height": 86,
          "referenced_widgets": [
            "27523a7f815046b7aed25ceb80db5ac0",
            "dde973aaf96249fe84461ae285736a1b",
            "3a3ca1beee7b40f7b89d144c48d2ca2d",
            "b53397d96de94847996ecc5da1adf1dc",
            "470c3dedcaba41e4974979eafafb28bb",
            "38f52f92a34e470ab6f7e79ad0309ffb",
            "87df444a96c144c4b5eb94bb779071db",
            "b9ae42c851504a5987b528b44aac6533",
            "d4bddd71ba104f9e9fdecd614bff6d32",
            "8987d75766d143e48be0f52392f270c6",
            "121b3c70be0444e087e6797e2a6c834e"
          ]
        },
        "id": "EKMScmqNHX9P",
        "outputId": "237d4e33-8a7b-4e6a-90e4-87328067f7ee"
      },
      "outputs": [
        {
          "name": "stderr",
          "output_type": "stream",
          "text": [
            "Downloading: \"https://download.pytorch.org/models/resnet18-f37072fd.pth\" to /root/.cache/torch/hub/checkpoints/resnet18-f37072fd.pth\n"
          ]
        },
        {
          "data": {
            "application/vnd.jupyter.widget-view+json": {
              "model_id": "27523a7f815046b7aed25ceb80db5ac0",
              "version_major": 2,
              "version_minor": 0
            },
            "text/plain": [
              "  0%|          | 0.00/44.7M [00:00<?, ?B/s]"
            ]
          },
          "metadata": {},
          "output_type": "display_data"
        }
      ],
      "source": [
        "class PrototypicalNetworks(nn.Module):\n",
        "    def __init__(self, backbone: nn.Module):\n",
        "        super(PrototypicalNetworks, self).__init__()\n",
        "        self.backbone = backbone\n",
        "    def forward(\n",
        "        self,\n",
        "        support_images: torch.Tensor,\n",
        "        support_labels: torch.Tensor,\n",
        "        query_images: torch.Tensor,\n",
        "    ) -> torch.Tensor:\n",
        "        \"\"\"\n",
        "        Predict query labels using labeled support images.\n",
        "        \"\"\"\n",
        "\n",
        "        # Extract the features of support and query images\n",
        "        z_support = self.backbone.forward(support_images)\n",
        "        z_query = self.backbone.forward(query_images)\n",
        "\n",
        "        # Infer the number of classes from the labels of the support set\n",
        "        n_way = len(torch.unique(support_labels))\n",
        "        # Prototype i is the mean of all support features vector with label i\n",
        "        z_proto = torch.cat(\n",
        "            [\n",
        "                z_support[torch.nonzero(support_labels == label)].mean(0)\n",
        "                for label in range(n_way)\n",
        "            ]\n",
        "        )\n",
        "\n",
        "        # Compute the euclidean distance from queries to prototypes\n",
        "        dists = torch.cdist(z_query, z_proto)\n",
        "\n",
        "        scores = -dists\n",
        "        return scores\n",
        "\n",
        "\n",
        "convolutional_network = resnet18(pretrained=True)\n",
        "convolutional_network.fc = nn.Flatten()\n",
        "\n",
        "model = PrototypicalNetworks(convolutional_network).cuda()"
      ]
    },
    {
      "cell_type": "markdown",
      "metadata": {
        "id": "dOY7lOJ2IJ_9"
      },
      "source": [
        "# Now prepare the Data!\n",
        "Num_channels is 3 because Resnet expects input of 3"
      ]
    },
    {
      "cell_type": "code",
      "execution_count": null,
      "metadata": {
        "colab": {
          "base_uri": "https://localhost:8080/",
          "height": 170,
          "referenced_widgets": [
            "45b67afe71424f94affb0cbcf3b61390",
            "ba95facb8f4a45748c3d284cb2503e9f",
            "321e4cc6b01e46de8768791e13b851ab",
            "80bdb0180dc14c9c8e04f2c356197880",
            "9d54adb7ad5242cb809bb45863867e9c",
            "c00e93ad727747d0a6114d5f06b0986c",
            "9139c219b1904065ab8484d2cdb673b5",
            "1e34ec0999584a89bd47ba14c4f5e0a0",
            "4bb95e66023441d18c60339d1d63179f",
            "1d2b633096de477bb00ba5bf77659b3d",
            "d6903f148de142cdab6a407a6e165a3c",
            "01e71d5d8f994734a3840de83bf78657",
            "e1c1e5866f1444be84c5c4d60116c37a",
            "9b9171ae7ff741d3aeec38128d389e28",
            "0bad10176aeb44d7a9b234bef587f43a",
            "f2fe3e1ab1e8419583026746189fd718",
            "95d8f6dbcc4c4cd59aeca0988d26d1ad",
            "33fd1e92209141c79c06a4f531efff2a",
            "7217d99c648e418aac16935eaf04a925",
            "72c2cee7aaec4d4f92355bc03c63e802",
            "0816bb32552146398d0f983b9bdda4a3",
            "2f95e38ebc774400aa62a8d649ec7c5d"
          ]
        },
        "id": "1JH86nWpIMCL",
        "outputId": "8a1de4e7-cf92-4e7d-a1d9-979fedd3fb92"
      },
      "outputs": [
        {
          "name": "stdout",
          "output_type": "stream",
          "text": [
            "Downloading https://raw.githubusercontent.com/brendenlake/omniglot/master/python/images_background.zip to ./data/omniglot-py/images_background.zip\n"
          ]
        },
        {
          "data": {
            "application/vnd.jupyter.widget-view+json": {
              "model_id": "45b67afe71424f94affb0cbcf3b61390",
              "version_major": 2,
              "version_minor": 0
            },
            "text/plain": [
              "  0%|          | 0/9464212 [00:00<?, ?it/s]"
            ]
          },
          "metadata": {},
          "output_type": "display_data"
        },
        {
          "name": "stdout",
          "output_type": "stream",
          "text": [
            "Extracting ./data/omniglot-py/images_background.zip to ./data/omniglot-py\n",
            "Downloading https://raw.githubusercontent.com/brendenlake/omniglot/master/python/images_evaluation.zip to ./data/omniglot-py/images_evaluation.zip\n"
          ]
        },
        {
          "data": {
            "application/vnd.jupyter.widget-view+json": {
              "model_id": "01e71d5d8f994734a3840de83bf78657",
              "version_major": 2,
              "version_minor": 0
            },
            "text/plain": [
              "  0%|          | 0/6462886 [00:00<?, ?it/s]"
            ]
          },
          "metadata": {},
          "output_type": "display_data"
        },
        {
          "name": "stdout",
          "output_type": "stream",
          "text": [
            "Extracting ./data/omniglot-py/images_evaluation.zip to ./data/omniglot-py\n"
          ]
        }
      ],
      "source": [
        "image_size = 28\n",
        "\n",
        "train_set = Omniglot(\n",
        "    root=\"./data\",\n",
        "    background=True,\n",
        "    transform=transforms.Compose(\n",
        "        [\n",
        "            transforms.Grayscale(num_output_channels=3),\n",
        "            transforms.RandomResizedCrop(image_size),\n",
        "            transforms.RandomHorizontalFlip(),\n",
        "            transforms.ToTensor(),\n",
        "        ]\n",
        "    ),\n",
        "    download=True,\n",
        ")\n",
        "test_set = Omniglot(\n",
        "    root=\"./data\",\n",
        "    background=False,\n",
        "    transform=transforms.Compose(\n",
        "        [\n",
        "            transforms.Grayscale(num_output_channels=3),\n",
        "            transforms.Resize([\n",
        "                int(image_size * 1.15), int(image_size * 1.15)\n",
        "            ]),\n",
        "            transforms.CenterCrop(image_size),\n",
        "            transforms.ToTensor(),\n",
        "        ]\n",
        "    ),\n",
        "    download=True,\n",
        ")"
      ]
    },
    {
      "cell_type": "markdown",
      "metadata": {
        "id": "nl_kN0i3JS6e"
      },
      "source": [
        "Now let's make the k-way, n-shot sets"
      ]
    },
    {
      "cell_type": "code",
      "execution_count": null,
      "metadata": {
        "colab": {
          "base_uri": "https://localhost:8080/"
        },
        "id": "lR55yHApIWg7",
        "outputId": "579d80bf-2912-4111-e07b-9d53b387f6c2"
      },
      "outputs": [
        {
          "name": "stderr",
          "output_type": "stream",
          "text": [
            "/usr/local/lib/python3.7/dist-packages/torch/utils/data/dataloader.py:490: UserWarning: This DataLoader will create 12 worker processes in total. Our suggested max number of worker in current system is 2, which is smaller than what this DataLoader is going to create. Please be aware that excessive worker creation might get DataLoader running slow or even freeze, lower the worker number to avoid potential slowness/freeze if necessary.\n",
            "  cpuset_checked))\n"
          ]
        }
      ],
      "source": [
        "N_WAY = 5 # Number of classes in a task\n",
        "N_SHOT = 5 # Number of images per class in the support set\n",
        "N_QUERY = 10 # Number of images per class in the query set\n",
        "N_EVALUATION_TASKS = 100\n",
        "# get the labels\n",
        "test_set.labels = [\n",
        "    instance[1] for instance in test_set._flat_character_images\n",
        "]\n",
        "\n",
        "test_sampler = TaskSampler(\n",
        "    test_set, \n",
        "    n_way=N_WAY, \n",
        "    n_shot=N_SHOT, \n",
        "    n_query=N_QUERY, \n",
        "    n_tasks=N_EVALUATION_TASKS,\n",
        ")\n",
        "\n",
        "test_loader = DataLoader(\n",
        "    test_set,\n",
        "    batch_sampler=test_sampler,\n",
        "    num_workers=12,\n",
        "    pin_memory=True,\n",
        "    collate_fn=test_sampler.episodic_collate_fn,\n",
        ")"
      ]
    },
    {
      "cell_type": "markdown",
      "metadata": {
        "id": "0AmJxdatJjQZ"
      },
      "source": [
        "Display some images just for kicks"
      ]
    },
    {
      "cell_type": "code",
      "execution_count": null,
      "metadata": {
        "colab": {
          "base_uri": "https://localhost:8080/",
          "height": 550
        },
        "id": "b-d5aXz7Jcs_",
        "outputId": "b591e9a4-396a-448e-feae-2d493c48f5f1"
      },
      "outputs": [
        {
          "name": "stderr",
          "output_type": "stream",
          "text": [
            "/usr/local/lib/python3.7/dist-packages/torch/utils/data/dataloader.py:490: UserWarning: This DataLoader will create 12 worker processes in total. Our suggested max number of worker in current system is 2, which is smaller than what this DataLoader is going to create. Please be aware that excessive worker creation might get DataLoader running slow or even freeze, lower the worker number to avoid potential slowness/freeze if necessary.\n",
            "  cpuset_checked))\n"
          ]
        },
        {
          "data": {
            "image/png": "[encoded data removed]",
            "text/plain": [
              "<Figure size 432x288 with 1 Axes>"
            ]
          },
          "metadata": {},
          "output_type": "display_data"
        },
        {
          "data": {
            "image/png": "[encoded data removed]",
            "text/plain": [
              "<Figure size 432x288 with 1 Axes>"
            ]
          },
          "metadata": {},
          "output_type": "display_data"
        }
      ],
      "source": [
        "(\n",
        "    example_support_images,\n",
        "    example_support_labels,\n",
        "    example_query_images,\n",
        "    example_query_labels,\n",
        "    example_class_ids,\n",
        ") = next(iter(test_loader))\n",
        "\n",
        "plot_images(example_support_images, \"support images\", images_per_row=N_SHOT)\n",
        "plot_images(example_query_images, \"query images\", images_per_row=N_QUERY)"
      ]
    },
    {
      "cell_type": "markdown",
      "metadata": {
        "id": "WLDfKOS5JqD8"
      },
      "source": [
        "5-way,5-shot (describes support set). 10-way query set"
      ]
    },
    {
      "cell_type": "markdown",
      "metadata": {
        "id": "wmcQNM0tbAmo"
      },
      "source": [
        "# Training: "
      ]
    },
    {
      "cell_type": "markdown",
      "metadata": {
        "id": "4iFwmQJrbryb"
      },
      "source": [
        "## Let's see how the model does out of the box on this task\n",
        "On the images above, it has an accuracy of 78%; not bad!"
      ]
    },
    {
      "cell_type": "code",
      "execution_count": null,
      "metadata": {
        "colab": {
          "base_uri": "https://localhost:8080/"
        },
        "id": "NhABuhspJlhc",
        "outputId": "3208840c-ffa2-4598-f221-380eea45e697"
      },
      "outputs": [
        {
          "name": "stdout",
          "output_type": "stream",
          "text": [
            "Accuracy is  0.7\n"
          ]
        }
      ],
      "source": [
        "model.eval() # set to evaluation mode\n",
        "scores = model(example_support_images.cuda(),\n",
        "               example_support_labels.cuda(),\n",
        "               example_query_images.cuda()).detach()\n",
        "# used Torch.max documentation for the next line\n",
        "#https://pytorch.org/docs/stable/generated/torch.max.html\n",
        "_,predicted_label = torch.max(scores,dim=1)\n",
        "\n",
        "# Get things back on the cpu\n",
        "# Used: https://pytorch.org/docs/stable/generated/torch.Tensor.detach.html\n",
        "predicted_label = predicted_label.detach().cpu().numpy()\n",
        "# detach from NN graph, transfer to cpu, make to np.ndarray\n",
        "true_label = example_query_labels.numpy()\n",
        "\n",
        "# Compute the accuracy\n",
        "correct,total = 0,0\n",
        "for pred,real in zip(predicted_label,true_label):\n",
        "  if pred == real:\n",
        "    correct+=1\n",
        "  total+=1\n",
        "print(\"Accuracy is \",correct/total)"
      ]
    },
    {
      "cell_type": "markdown",
      "metadata": {
        "id": "XxN80MKxdy7w"
      },
      "source": [
        "##Let's get the average accuracy across all query/example sets:\n",
        "The average Accuracy is 85%"
      ]
    },
    {
      "cell_type": "code",
      "execution_count": null,
      "metadata": {
        "colab": {
          "base_uri": "https://localhost:8080/"
        },
        "id": "C4ZP14clcdun",
        "outputId": "c3ba90c1-cb81-4884-cca0-bb153d71e4e2"
      },
      "outputs": [
        {
          "name": "stderr",
          "output_type": "stream",
          "text": [
            "/usr/local/lib/python3.7/dist-packages/torch/utils/data/dataloader.py:490: UserWarning: This DataLoader will create 12 worker processes in total. Our suggested max number of worker in current system is 2, which is smaller than what this DataLoader is going to create. Please be aware that excessive worker creation might get DataLoader running slow or even freeze, lower the worker number to avoid potential slowness/freeze if necessary.\n",
            "  cpuset_checked))\n"
          ]
        },
        {
          "name": "stdout",
          "output_type": "stream",
          "text": [
            "The Average Accuracy is  0.8684000000000001\n"
          ]
        }
      ],
      "source": [
        "model.eval() # set to evaluation mode\n",
        "\n",
        "data_iterator = iter(test_loader)\n",
        "# an example refers to the tuple: (support_imgs,support_labels,query_images,query_labels,class_ids)\n",
        "curExample = next(data_iterator,None)# return none if no other value left\n",
        "AverageAccuracy = []\n",
        "while curExample != None:\n",
        "  (support_imgs,\n",
        "  support_labels,\n",
        "  query_images,\n",
        "  query_labels,\n",
        "  class_ids) = curExample\n",
        "  scores = model(support_imgs.cuda(),\n",
        "                  support_labels.cuda(),\n",
        "                  query_images.cuda()).detach()\n",
        "  _,predicted_label = torch.max(scores,dim=1)\n",
        "  predicted_label = predicted_label.detach().cpu().numpy()\n",
        "  true_label = query_labels.numpy()\n",
        "  # Compute the accuracy\n",
        "  correct,total = 0,0\n",
        "  for pred,real in zip(predicted_label,true_label):\n",
        "    if pred == real:\n",
        "      correct+=1\n",
        "    total+=1\n",
        "  AverageAccuracy.append(correct/total)\n",
        "  curExample = next(data_iterator,None)\n",
        "# Now calculate Average Accuracy:\n",
        "# print(AverageAccuracy)\n",
        "AverageAccuracy = np.mean(AverageAccuracy)\n",
        "print(\"The Average Accuracy is \",AverageAccuracy)"
      ]
    },
    {
      "cell_type": "markdown",
      "metadata": {
        "id": "GDzXRjv2gSsD"
      },
      "source": [
        "Up until now, our model is a ResNet trained on Cifar-10. So we need to train it on a different dataset, and see if it can still perform as well on Omniglot."
      ]
    },
    {
      "cell_type": "markdown",
      "metadata": {
        "id": "G3XxVP_8gcgI"
      },
      "source": [
        "# Define Model trained on MNIST"
      ]
    },
    {
      "cell_type": "markdown",
      "metadata": {
        "id": "dEXZQpi0g2u9"
      },
      "source": [
        "### Define Model\n",
        "Using an Untrained ResNet18\n"
      ]
    },
    {
      "cell_type": "code",
      "execution_count": null,
      "metadata": {
        "id": "CKCOz5uegFzs"
      },
      "outputs": [],
      "source": [
        "model_MNIST = resnet18(pretrained=False)\n",
        "# model_MNIST.fc = nn.Flatten()"
      ]
    },
    {
      "cell_type": "markdown",
      "metadata": {
        "id": "l2tqhi5-hI6Y"
      },
      "source": [
        "### Prepare the MNIST DataSet"
      ]
    },
    {
      "cell_type": "code",
      "execution_count": null,
      "metadata": {
        "colab": {
          "base_uri": "https://localhost:8080/",
          "height": 442,
          "referenced_widgets": [
            "5402ac382d7342609e69830213d0772a",
            "052869a70de9466c9dad7bc586d98126",
            "59b8b10a6e764439824bdcda59f5aa85",
            "51c7755058aa4a33b4c18911f40c9ae4",
            "ac04a1affa4a4beba561eb44d25e2802",
            "2cb3799c5fe843c3a6396146023c0aec",
            "4db8e0cdeff84e2bbce347ec81febd86",
            "70c113758bd3404da65860c34a1677c9",
            "2bfb75b47d4d4ee28c8ed0898b7efa16",
            "bba0fa43e6e546f8b83b05be21d933d8",
            "16931938b351452c95904b68425e72f4",
            "72f2534e7103438586cf32a6ce232144",
            "711b21c3c6884dde93f875bfe3196380",
            "b826472543354e508ea55bf31f66f060",
            "29f178e486d0447192f51e23f91320fc",
            "adfbf4ad0e5c414ab3e8eb2d23f48ee4",
            "0cf3f0db9dba47f3be62691a69517924",
            "c8af16148619480d9b6f5c9386453d4f",
            "ae3a880b885c4b99a05b2c2a3ec3c7f4",
            "ba56dbdb70f941ee8215a68e6a83d2a9",
            "fb0a0f75db6d41ad8c28bb59c68305a3",
            "c52588f9ed794fe2acde0a295be773b1",
            "81a2ceba0bb748688d07f9b213668d26",
            "bd24a9f3daf84c98a2d12a6bc51a908a",
            "ece74d93cfcf42f692419e5a090068e4",
            "30eee8c3554340f0b3e70bec8bd5966f",
            "c811e0334bf44a02a60b26b6936d46e8",
            "b24afc3e94ad4ebe90e22f3d796f0d0e",
            "a098730a7b1d4044b58b9d725284e3ef",
            "03a00e9bd6d54996b53c92b27d5b1b98",
            "b17f7bfa530045c99bdcd7f7b7de2787",
            "a5cd05afad8a4426bd1dc8c83cefdfba",
            "636ac49617124546a730877b9c9d8c18",
            "686a2d3d03da44fd9631ff3607f13cd2",
            "99200a3a791d4464bb1bdb13c6cb83ad",
            "0c3f9e60880d4c68ade075eb39c89a0f",
            "4fdb86ad758f42e1a9e476e4f72fbd9e",
            "8ae3db3950864c59b941d8871e387a18",
            "1251873819de485bb0c0792bdeb52eca",
            "019752ffb63b4af19c0dfa18d6d56ff4",
            "dc3f7d1e3bad4d9b97b05b1ed46f9722",
            "1436557d419b4e19bc2087330bd3c482",
            "89e58b8c22064909a0e5f5b1215222cf",
            "81c79223f11740e4b7e51d301ca9eb61"
          ]
        },
        "id": "T-vVLaHOhHuQ",
        "outputId": "2cd774fa-125a-4084-dce0-b28ca7806a28"
      },
      "outputs": [
        {
          "name": "stdout",
          "output_type": "stream",
          "text": [
            "Downloading http://yann.lecun.com/exdb/mnist/train-images-idx3-ubyte.gz\n",
            "Downloading http://yann.lecun.com/exdb/mnist/train-images-idx3-ubyte.gz to ./data/MNIST/raw/train-images-idx3-ubyte.gz\n"
          ]
        },
        {
          "data": {
            "application/vnd.jupyter.widget-view+json": {
              "model_id": "5402ac382d7342609e69830213d0772a",
              "version_major": 2,
              "version_minor": 0
            },
            "text/plain": [
              "  0%|          | 0/9912422 [00:00<?, ?it/s]"
            ]
          },
          "metadata": {},
          "output_type": "display_data"
        },
        {
          "name": "stdout",
          "output_type": "stream",
          "text": [
            "Extracting ./data/MNIST/raw/train-images-idx3-ubyte.gz to ./data/MNIST/raw\n",
            "\n",
            "Downloading http://yann.lecun.com/exdb/mnist/train-labels-idx1-ubyte.gz\n",
            "Downloading http://yann.lecun.com/exdb/mnist/train-labels-idx1-ubyte.gz to ./data/MNIST/raw/train-labels-idx1-ubyte.gz\n"
          ]
        },
        {
          "data": {
            "application/vnd.jupyter.widget-view+json": {
              "model_id": "72f2534e7103438586cf32a6ce232144",
              "version_major": 2,
              "version_minor": 0
            },
            "text/plain": [
              "  0%|          | 0/28881 [00:00<?, ?it/s]"
            ]
          },
          "metadata": {},
          "output_type": "display_data"
        },
        {
          "name": "stdout",
          "output_type": "stream",
          "text": [
            "Extracting ./data/MNIST/raw/train-labels-idx1-ubyte.gz to ./data/MNIST/raw\n",
            "\n",
            "Downloading http://yann.lecun.com/exdb/mnist/t10k-images-idx3-ubyte.gz\n",
            "Downloading http://yann.lecun.com/exdb/mnist/t10k-images-idx3-ubyte.gz to ./data/MNIST/raw/t10k-images-idx3-ubyte.gz\n"
          ]
        },
        {
          "data": {
            "application/vnd.jupyter.widget-view+json": {
              "model_id": "81a2ceba0bb748688d07f9b213668d26",
              "version_major": 2,
              "version_minor": 0
            },
            "text/plain": [
              "  0%|          | 0/1648877 [00:00<?, ?it/s]"
            ]
          },
          "metadata": {},
          "output_type": "display_data"
        },
        {
          "name": "stdout",
          "output_type": "stream",
          "text": [
            "Extracting ./data/MNIST/raw/t10k-images-idx3-ubyte.gz to ./data/MNIST/raw\n",
            "\n",
            "Downloading http://yann.lecun.com/exdb/mnist/t10k-labels-idx1-ubyte.gz\n",
            "Downloading http://yann.lecun.com/exdb/mnist/t10k-labels-idx1-ubyte.gz to ./data/MNIST/raw/t10k-labels-idx1-ubyte.gz\n"
          ]
        },
        {
          "data": {
            "application/vnd.jupyter.widget-view+json": {
              "model_id": "686a2d3d03da44fd9631ff3607f13cd2",
              "version_major": 2,
              "version_minor": 0
            },
            "text/plain": [
              "  0%|          | 0/4542 [00:00<?, ?it/s]"
            ]
          },
          "metadata": {},
          "output_type": "display_data"
        },
        {
          "name": "stdout",
          "output_type": "stream",
          "text": [
            "Extracting ./data/MNIST/raw/t10k-labels-idx1-ubyte.gz to ./data/MNIST/raw\n",
            "\n"
          ]
        }
      ],
      "source": [
        "image_size = 28\n",
        "\n",
        "train_MNIST = MNIST(\n",
        "    root=\"./data\",\n",
        "    transform=transforms.Compose(\n",
        "        [\n",
        "            transforms.Grayscale(num_output_channels=3),\n",
        "            transforms.ToTensor(),\n",
        "        ]\n",
        "    ),\n",
        "    download=True,\n",
        ")\n",
        "test_MNIST = MNIST(\n",
        "    root=\"./data\",\n",
        "    transform=transforms.Compose(\n",
        "        [\n",
        "            transforms.Grayscale(num_output_channels=3),\n",
        "            transforms.Resize([\n",
        "                int(image_size), int(image_size)\n",
        "            ]),\n",
        "            transforms.ToTensor(),\n",
        "        ]\n",
        "    ),\n",
        "    download=True,\n",
        ")"
      ]
    },
    {
      "cell_type": "code",
      "execution_count": null,
      "metadata": {
        "id": "8bRkw6nCixY3"
      },
      "outputs": [],
      "source": [
        "train_MNIST_loader = DataLoader(train_MNIST,batch_size=64,shuffle=True)\n",
        "test_MNIST_loader = DataLoader(test_MNIST,batch_size=64,shuffle=True)"
      ]
    },
    {
      "cell_type": "markdown",
      "metadata": {
        "id": "SUspVYCahoAV"
      },
      "source": [
        "### Train ResNet on MNIST"
      ]
    },
    {
      "cell_type": "code",
      "execution_count": null,
      "metadata": {
        "colab": {
          "background_save": true,
          "base_uri": "https://localhost:8080/"
        },
        "id": "GoFBkDYrhmJY",
        "outputId": "0bdfc7ea-0bf1-420e-a901-4bba195f65ed"
      },
      "outputs": [
        {
          "name": "stdout",
          "output_type": "stream",
          "text": [
            "Epoch  0  Running Loss is  1.1890141237825156\n",
            "Epoch  1  Running Loss is  0.3086102412622422\n",
            "Epoch  2  Running Loss is  0.20558489719824866\n",
            "Epoch  3  Running Loss is  0.3686814423138276\n",
            "Epoch  4  Running Loss is  0.37670285945385695\n",
            "Epoch  5  Running Loss is  0.24078099574707448\n",
            "Epoch  6  Running Loss is  0.26001394902076574\n",
            "Epoch  7  Running Loss is  0.26858696292340756\n",
            "Epoch  8  Running Loss is  0.28228751674178054\n",
            "Epoch  9  Running Loss is  0.2566614178996533\n",
            "Epoch  10  Running Loss is  0.33367576224077494\n",
            "Epoch  11  Running Loss is  0.24331109218299388\n",
            "Epoch  12  Running Loss is  0.23276921017933636\n",
            "Epoch  13  Running Loss is  0.21454157141083852\n",
            "Epoch  14  Running Loss is  0.24070258899964392\n",
            "Epoch  15  Running Loss is  0.2640553772095591\n",
            "Epoch  16  Running Loss is  0.21493765912950039\n",
            "Epoch  17  Running Loss is  0.2729250087533146\n",
            "Epoch  18  Running Loss is  0.6583332367488183\n",
            "Epoch  19  Running Loss is  0.22880760053545238\n"
          ]
        },
        {
          "ename": "KeyboardInterrupt",
          "evalue": "ignored",
          "output_type": "error",
          "traceback": [
            "\u001b[0;31m---------------------------------------------------------------------------\u001b[0m",
            "\u001b[0;31mKeyboardInterrupt\u001b[0m                         Traceback (most recent call last)",
            "\u001b[0;32m<ipython-input-11-676e6af2aba4>\u001b[0m in \u001b[0;36m<module>\u001b[0;34m()\u001b[0m\n\u001b[1;32m     16\u001b[0m     \u001b[0mloss\u001b[0m\u001b[0;34m.\u001b[0m\u001b[0mbackward\u001b[0m\u001b[0;34m(\u001b[0m\u001b[0;34m)\u001b[0m\u001b[0;34m\u001b[0m\u001b[0;34m\u001b[0m\u001b[0m\n\u001b[1;32m     17\u001b[0m     \u001b[0moptim\u001b[0m\u001b[0;34m.\u001b[0m\u001b[0mstep\u001b[0m\u001b[0;34m(\u001b[0m\u001b[0;34m)\u001b[0m\u001b[0;34m\u001b[0m\u001b[0;34m\u001b[0m\u001b[0m\n\u001b[0;32m---> 18\u001b[0;31m     \u001b[0mrunning_loss\u001b[0m\u001b[0;34m+=\u001b[0m\u001b[0mloss\u001b[0m\u001b[0;34m.\u001b[0m\u001b[0mitem\u001b[0m\u001b[0;34m(\u001b[0m\u001b[0;34m)\u001b[0m\u001b[0;34m\u001b[0m\u001b[0;34m\u001b[0m\u001b[0m\n\u001b[0m\u001b[1;32m     19\u001b[0m     \u001b[0;32mif\u001b[0m \u001b[0mi\u001b[0m\u001b[0;34m%\u001b[0m\u001b[0;36m500\u001b[0m \u001b[0;34m==\u001b[0m \u001b[0;36m499\u001b[0m\u001b[0;34m:\u001b[0m\u001b[0;34m\u001b[0m\u001b[0;34m\u001b[0m\u001b[0m\n\u001b[1;32m     20\u001b[0m       \u001b[0mprint\u001b[0m\u001b[0;34m(\u001b[0m\u001b[0;34m\"Epoch \"\u001b[0m\u001b[0;34m,\u001b[0m\u001b[0me\u001b[0m\u001b[0;34m,\u001b[0m\u001b[0;34m\" Running Loss is \"\u001b[0m\u001b[0;34m,\u001b[0m\u001b[0mrunning_loss\u001b[0m\u001b[0;34m/\u001b[0m\u001b[0;36m500\u001b[0m\u001b[0;34m)\u001b[0m\u001b[0;34m\u001b[0m\u001b[0;34m\u001b[0m\u001b[0m\n",
            "\u001b[0;31mKeyboardInterrupt\u001b[0m: "
          ]
        }
      ],
      "source": [
        "EPOCHS = 20\n",
        "\n",
        "# Optimizer and Loss Function\n",
        "loss_fn = torch.nn.CrossEntropyLoss()\n",
        "optim = torch.optim.Adam(model_MNIST.parameters())\n",
        "\n",
        "model_MNIST.train()\n",
        "model_MNIST = model_MNIST.cuda()\n",
        "for e in range(EPOCHS):\n",
        "  running_loss = 0\n",
        "  for i,data in enumerate(train_MNIST_loader):\n",
        "    image,label = data\n",
        "    image,label = image.cuda(),label.cuda()\n",
        "    output = model_MNIST(image)\n",
        "    loss = loss_fn(output,label)\n",
        "    loss.backward()\n",
        "    optim.step()\n",
        "    running_loss+=loss.item()\n",
        "    if i%500 == 499:\n",
        "      print(\"Epoch \",e,\" Running Loss is \",running_loss/500)\n",
        "      running_loss = 0"
      ]
    },
    {
      "cell_type": "markdown",
      "metadata": {
        "id": "zPp9Z4eBjg6_"
      },
      "source": [
        "#### Test on MNIST to see if we trained a good MNIST model"
      ]
    },
    {
      "cell_type": "code",
      "execution_count": null,
      "metadata": {
        "colab": {
          "background_save": true
        },
        "id": "JMMtM8oJjSvp"
      },
      "outputs": [],
      "source": [
        "model_MNIST.eval()\n",
        "model_MNIST = model_MNIST.cuda()\n",
        "count,total = 0,0\n",
        "for i,data in enumerate(test_MNIST_loader):\n",
        "  image,label = data\n",
        "  image,label = image.cuda(),label.cuda()\n",
        "  output = model_MNIST(image)\n",
        "  _,pred = torch.max(output,1)\n",
        "  for p,l in zip(pred,label):\n",
        "    if p==l:\n",
        "      count+=1\n",
        "    total+=1\n",
        "print(\"Accuracy on Test Set is \",100*count/total,\"%\")"
      ]
    },
    {
      "cell_type": "markdown",
      "metadata": {
        "id": "_AV5DBNelHI1"
      },
      "source": [
        "52.15% when trained for 5 epochs\n",
        "\n",
        "\n",
        "70.875% when trained for 10 epochs. I decided to move on bc I was excited to see how it would do on Omniglot\n",
        "\n",
        "\n",
        "??% when trained for 20 epoches."
      ]
    },
    {
      "cell_type": "markdown",
      "metadata": {
        "id": "njb2ZFrBn10f"
      },
      "source": [
        "## Make Prototypical Net"
      ]
    },
    {
      "cell_type": "code",
      "execution_count": null,
      "metadata": {
        "colab": {
          "background_save": true
        },
        "id": "PCAgMrN5lGfX"
      },
      "outputs": [],
      "source": [
        "model_MNIST.fc = nn.Flatten()\n",
        "proto_mnist = PrototypicalNetworks(model_MNIST).cuda()"
      ]
    },
    {
      "cell_type": "markdown",
      "metadata": {
        "id": "iZbzqgijn_WH"
      },
      "source": [
        "## See what the average Accuracy is!"
      ]
    },
    {
      "cell_type": "code",
      "execution_count": null,
      "metadata": {
        "colab": {
          "background_save": true
        },
        "id": "qykdiR3yn8Us"
      },
      "outputs": [],
      "source": [
        "proto_mnist.eval() # set to evaluation mode\n",
        "\n",
        "data_iterator = iter(test_loader)\n",
        "# an example refers to the tuple: (support_imgs,support_labels,query_images,query_labels,class_ids)\n",
        "curExample = next(data_iterator,None)# return none if no other value left\n",
        "AverageAccuracy = []\n",
        "while curExample != None:\n",
        "  (support_imgs,\n",
        "  support_labels,\n",
        "  query_images,\n",
        "  query_labels,\n",
        "  class_ids) = curExample\n",
        "  scores = proto_mnist(support_imgs.cuda(),\n",
        "                  support_labels.cuda(),\n",
        "                  query_images.cuda()).detach()\n",
        "  _,predicted_label = torch.max(scores,dim=1)\n",
        "  predicted_label = predicted_label.detach().cpu().numpy()\n",
        "  true_label = query_labels.numpy()\n",
        "  # Compute the accuracy\n",
        "  correct,total = 0,0\n",
        "  for pred,real in zip(predicted_label,true_label):\n",
        "    if pred == real:\n",
        "      correct+=1\n",
        "    total+=1\n",
        "  AverageAccuracy.append(correct/total)\n",
        "  curExample = next(data_iterator,None)\n",
        "# Now calculate Average Accuracy:\n",
        "# print(AverageAccuracy)\n",
        "AverageAccuracy = np.mean(AverageAccuracy)\n",
        "print(\"The Average Accuracy is \",AverageAccuracy)"
      ]
    },
    {
      "cell_type": "markdown",
      "metadata": {
        "id": "yngbMsduoWKE"
      },
      "source": [
        "34% when trained on MNIST, w MNIST Accuracy at 70%... hmmm"
      ]
    },
    {
      "cell_type": "code",
      "execution_count": null,
      "metadata": {
        "colab": {
          "background_save": true
        },
        "id": "1Mw_sz-EoNi_"
      },
      "outputs": [],
      "source": [
        ""
      ]
    },
    {
      "cell_type": "markdown",
      "metadata": {
        "id": "94zYGPzOWDDV"
      },
      "source": [
        "# Define Model trained on MNIST [Use Pretrained ResNet)"
      ]
    },
    {
      "cell_type": "markdown",
      "metadata": {
        "id": "2KkxIZ1gWDDX"
      },
      "source": [
        "### Define Model\n",
        "Using an PreTrained ResNet18\n"
      ]
    },
    {
      "cell_type": "code",
      "execution_count": null,
      "metadata": {
        "colab": {
          "background_save": true
        },
        "id": "NbG_SuBCWDDY"
      },
      "outputs": [],
      "source": [
        "model_MNIST = resnet18(pretrained=True)\n",
        "model_MNIST.fc = nn.Linear(512,10) # added linear 10 April 23rd 5:58pm"
      ]
    },
    {
      "cell_type": "markdown",
      "metadata": {
        "id": "KL-wgRovWDDZ"
      },
      "source": [
        "### Prepare the MNIST DataSet"
      ]
    },
    {
      "cell_type": "code",
      "execution_count": null,
      "metadata": {
        "colab": {
          "background_save": true
        },
        "id": "Wx-uF2B7WDDZ"
      },
      "outputs": [],
      "source": [
        "image_size = 28\n",
        "\n",
        "train_MNIST = MNIST(\n",
        "    root=\"./data\",\n",
        "    transform=transforms.Compose(\n",
        "        [\n",
        "            transforms.Grayscale(num_output_channels=3),\n",
        "            transforms.ToTensor(),\n",
        "        ]\n",
        "    ),\n",
        "    download=True,\n",
        ")\n",
        "# we used to do random horizontal flips and resized crops\n",
        "# this could make 9 look like 6's (horizontal flip) or 9 zoomed and cropped to the \n",
        "# loop and hence look like a zero\n",
        "test_MNIST = MNIST(\n",
        "    root=\"./data\",\n",
        "    transform=transforms.Compose(\n",
        "        [\n",
        "            transforms.Grayscale(num_output_channels=3),\n",
        "            transforms.Resize([\n",
        "                int(image_size), int(image_size)\n",
        "            ]),\n",
        "            transforms.ToTensor(),\n",
        "        ]\n",
        "    ),\n",
        "    download=True,\n",
        ")"
      ]
    },
    {
      "cell_type": "code",
      "execution_count": null,
      "metadata": {
        "colab": {
          "background_save": true
        },
        "id": "jFptRSrzWDDb"
      },
      "outputs": [],
      "source": [
        "train_MNIST_loader = DataLoader(train_MNIST,batch_size=64,shuffle=True)\n",
        "test_MNIST_loader = DataLoader(test_MNIST,batch_size=64,shuffle=True)"
      ]
    },
    {
      "cell_type": "markdown",
      "metadata": {
        "id": "920tqpvXWDDc"
      },
      "source": [
        "### Train ResNet on MNIST"
      ]
    },
    {
      "cell_type": "code",
      "execution_count": null,
      "metadata": {
        "colab": {
          "background_save": true
        },
        "id": "T7vptQX55o00"
      },
      "outputs": [],
      "source": [
        "# model_MNIST = resnet18(pretrained=True)\n",
        "# for param in model_MNIST.parameters():\n",
        "#   param.requires_grad = False\n",
        "# model_MNIST.fc = nn.Linear(512,10) # so now only fc will be updated... April 24th 1:48pm code\n",
        "# from here: https://pytorch.org/tutorials/beginner/finetuning_torchvision_models_tutorial.html"
      ]
    },
    {
      "cell_type": "code",
      "execution_count": null,
      "metadata": {
        "colab": {
          "background_save": true
        },
        "id": "PTnPPexYWDDc"
      },
      "outputs": [],
      "source": [
        "EPOCHS = 3\n",
        "\n",
        "# Optimizer and Loss Function\n",
        "loss_fn = torch.nn.CrossEntropyLoss()\n",
        "optim = torch.optim.Adam(model_MNIST.parameters())\n",
        "# April 24th: tried only passing last layer's parameters\n",
        "\n",
        "model_MNIST.train()\n",
        "model_MNIST = model_MNIST.cuda()\n",
        "for e in range(EPOCHS):\n",
        "  running_loss = 0\n",
        "  for i,data in enumerate(train_MNIST_loader):\n",
        "    image,label = data\n",
        "    image,label = image.cuda(),label.cuda()\n",
        "    output = model_MNIST(image)\n",
        "    loss = loss_fn(output,label)\n",
        "    loss.backward()\n",
        "    optim.step()\n",
        "    running_loss+=loss.item()\n",
        "    if i%500 == 499:\n",
        "      print(\"Epoch \",e,\" Running Loss is \",running_loss/500)\n",
        "      running_loss = 0"
      ]
    },
    {
      "cell_type": "code",
      "execution_count": null,
      "metadata": {
        "colab": {
          "background_save": true
        },
        "id": "hKOWTAiP2pC2"
      },
      "outputs": [],
      "source": [
        "torch.save(model_MNIST,'ResNet_pretrain_MNIST_10Epoches.pt')"
      ]
    },
    {
      "cell_type": "markdown",
      "metadata": {
        "id": "jKQC06-VWDDd"
      },
      "source": [
        "#### Test on MNIST to see if we trained a good MNIST model"
      ]
    },
    {
      "cell_type": "code",
      "execution_count": null,
      "metadata": {
        "colab": {
          "background_save": true
        },
        "id": "pMkScFxrWDDe"
      },
      "outputs": [],
      "source": [
        "model_MNIST.eval()\n",
        "model_MNIST = model_MNIST.cuda()\n",
        "count,total = 0,0\n",
        "for i,data in enumerate(test_MNIST_loader):\n",
        "  image,label = data\n",
        "  image,label = image.cuda(),label.cuda()\n",
        "  output = model_MNIST(image)\n",
        "  _,pred = torch.max(output,1)\n",
        "  for p,l in zip(pred,label):\n",
        "    if p==l:\n",
        "      count+=1\n",
        "    total+=1\n",
        "print(\"Accuracy on Test Set is \",100*count/total,\"%\")"
      ]
    },
    {
      "cell_type": "markdown",
      "metadata": {
        "id": "xiqWXnt_WDDe"
      },
      "source": [
        "23.87% when trained for 5 epochs Adam (default hyperparameters)\n",
        "\n",
        " 5 epoches SGD lr=0.0001 momentum=0.9 loss was near 8 so I abandoned it\n",
        "\n",
        "33% 10 epcochs Adam (default hyperparameters)\n",
        "\n",
        "After fixing the horizontal flipping and cropping issue witht the data we now get:\n",
        "\n",
        "95% on 3 epoches"
      ]
    },
    {
      "cell_type": "markdown",
      "metadata": {
        "id": "XhWqRxpVWDDf"
      },
      "source": [
        "## Make Prototypical Net"
      ]
    },
    {
      "cell_type": "code",
      "execution_count": null,
      "metadata": {
        "colab": {
          "background_save": true
        },
        "id": "KFUO_L7kWDDg"
      },
      "outputs": [],
      "source": [
        "model_MNIST.fc = nn.Flatten()\n",
        "proto_mnist = PrototypicalNetworks(model_MNIST).cuda()"
      ]
    },
    {
      "cell_type": "markdown",
      "metadata": {
        "id": "bsVEkjzCWDDh"
      },
      "source": [
        "## See what the average Accuracy is!"
      ]
    },
    {
      "cell_type": "code",
      "execution_count": null,
      "metadata": {
        "colab": {
          "background_save": true
        },
        "id": "254wOWWRWDDh"
      },
      "outputs": [],
      "source": [
        "proto_mnist.eval() # set to evaluation mode\n",
        "\n",
        "data_iterator = iter(test_loader)\n",
        "# an example refers to the tuple: (support_imgs,support_labels,query_images,query_labels,class_ids)\n",
        "curExample = next(data_iterator,None)# return none if no other value left\n",
        "AverageAccuracy = []\n",
        "while curExample != None:\n",
        "  (support_imgs,\n",
        "  support_labels,\n",
        "  query_images,\n",
        "  query_labels,\n",
        "  class_ids) = curExample\n",
        "  scores = proto_mnist(support_imgs.cuda(),\n",
        "                  support_labels.cuda(),\n",
        "                  query_images.cuda()).detach()\n",
        "  _,predicted_label = torch.max(scores,dim=1)\n",
        "  predicted_label = predicted_label.detach().cpu().numpy()\n",
        "  true_label = query_labels.numpy()\n",
        "  # Compute the accuracy\n",
        "  correct,total = 0,0\n",
        "  for pred,real in zip(predicted_label,true_label):\n",
        "    if pred == real:\n",
        "      correct+=1\n",
        "    total+=1\n",
        "  AverageAccuracy.append(correct/total)\n",
        "  curExample = next(data_iterator,None)\n",
        "# Now calculate Average Accuracy:\n",
        "# print(AverageAccuracy)\n",
        "AverageAccuracy = np.mean(AverageAccuracy)\n",
        "print(\"The Average Accuracy is \",AverageAccuracy)"
      ]
    },
    {
      "cell_type": "markdown",
      "metadata": {
        "id": "-YL78GdrWDDi"
      },
      "source": [
        "20% when trained on MNIST 10 epoches\n",
        "\n",
        "After I fixed the image preprocessing\n",
        "\n",
        "55% with 95% MNIST resnet"
      ]
    },
    {
      "cell_type": "markdown",
      "metadata": {
        "id": "FoO0vRmTyLvf"
      },
      "source": [
        "# Train with CIFAR-100"
      ]
    },
    {
      "cell_type": "markdown",
      "metadata": {
        "id": "-CnZip8-xswM"
      },
      "source": [
        "##import library"
      ]
    },
    {
      "cell_type": "code",
      "execution_count": null,
      "metadata": {
        "colab": {
          "background_save": true
        },
        "id": "2_sqKAl88y-9"
      },
      "outputs": [],
      "source": [
        "import os\n",
        "import torch\n",
        "import torchvision\n",
        "from torchvision.datasets import CIFAR100\n",
        "from torch.utils.data import random_split\n",
        "from torchvision.datasets import ImageFolder\n",
        "from torchvision.transforms import ToTensor\n",
        "import torchvision.transforms as transforms\n",
        "from torchvision.utils import make_grid\n",
        "from torch.utils.data.dataloader import DataLoader\n",
        "import torch.nn as nn\n",
        "import torch.nn.functional as F\n",
        "import matplotlib.pyplot as plt\n",
        "%matplotlib inline"
      ]
    },
    {
      "cell_type": "markdown",
      "metadata": {
        "id": "cicbRQtHx8iv"
      },
      "source": [
        "## CIFAR-100 "
      ]
    },
    {
      "cell_type": "code",
      "execution_count": null,
      "metadata": {
        "colab": {
          "background_save": true
        },
        "id": "0UKm4-I5x7s3"
      },
      "outputs": [],
      "source": [
        "transform1 = transforms.Compose([transforms.RandomResizedCrop(size=32, scale=(0.08, 1.0), ratio=(0.75, 1.33), interpolation=2), ToTensor()])\n",
        "\n",
        "dataset = CIFAR100(root='data/', download=True, transform=ToTensor())\n",
        "datasetplus = CIFAR100(root='data/', download=True, transform=transform1) \n",
        "# This \"datasetplus\" is to increase the dataset with more images\n",
        "\n",
        "test_dataset = CIFAR100(root='data/', train=False, transform=ToTensor())"
      ]
    },
    {
      "cell_type": "code",
      "execution_count": null,
      "metadata": {
        "colab": {
          "background_save": true
        },
        "id": "PqSeLvy20GzC"
      },
      "outputs": [],
      "source": [
        "random_seed = 42\n",
        "torch.manual_seed(random_seed);\n",
        "val_size = 10000\n",
        "train_size = 100000 - val_size\n",
        "\n",
        "train_ds, val_ds = random_split((dataset+datasetplus), [train_size, val_size])\n",
        "len(train_ds), len(val_ds)"
      ]
    },
    {
      "cell_type": "code",
      "execution_count": null,
      "metadata": {
        "colab": {
          "background_save": true
        },
        "id": "9ZM8UiPtyU61"
      },
      "outputs": [],
      "source": [
        "batch_size = 32\n",
        "\n",
        "train_dl = DataLoader(train_ds, batch_size, shuffle=True, num_workers=4, pin_memory=True)\n",
        "val_dl = DataLoader(val_ds, batch_size*2, num_workers=4, pin_memory=True)"
      ]
    },
    {
      "cell_type": "code",
      "execution_count": null,
      "metadata": {
        "colab": {
          "background_save": true
        },
        "id": "g0PUDm09CmvO"
      },
      "outputs": [],
      "source": [
        "def accuracy(outputs, labels):\n",
        "    _, preds = torch.max(outputs, dim=1)\n",
        "    return torch.tensor(torch.sum(preds == labels).item() / len(preds))\n",
        "\n",
        "class ImageClassificationBase(nn.Module):\n",
        "    def training_step(self, batch):\n",
        "        images, labels = batch \n",
        "        out = self(images)                  # Generate predictions\n",
        "        loss = F.cross_entropy(out, labels) # Calculate loss\n",
        "        return loss\n",
        "    \n",
        "    def validation_step(self, batch):\n",
        "        images, labels = batch \n",
        "        out = self(images)                    # Generate predictions\n",
        "        loss = F.cross_entropy(out, labels)   # Calculate loss\n",
        "        acc = accuracy(out, labels)           # Calculate accuracy\n",
        "        return {'val_loss': loss.detach(), 'val_acc': acc}\n",
        "        \n",
        "    def validation_epoch_end(self, outputs):\n",
        "        batch_losses = [x['val_loss'] for x in outputs]\n",
        "        epoch_loss = torch.stack(batch_losses).mean()   # Combine losses\n",
        "        batch_accs = [x['val_acc'] for x in outputs]\n",
        "        epoch_acc = torch.stack(batch_accs).mean()      # Combine accuracies\n",
        "        return {'val_loss': epoch_loss.item(), 'val_acc': epoch_acc.item()}\n",
        "    \n",
        "    def epoch_end(self, epoch, result):\n",
        "        print(\"Epoch [{}], train_loss: {:.4f}, val_loss: {:.4f}, val_acc: {:.4f}\".format(\n",
        "            epoch, result['train_loss'], result['val_loss'], result['val_acc']))"
      ]
    },
    {
      "cell_type": "markdown",
      "metadata": {
        "id": "WyH2xAh5riEc"
      },
      "source": [
        "##MODEL"
      ]
    },
    {
      "cell_type": "code",
      "execution_count": null,
      "metadata": {
        "colab": {
          "background_save": true
        },
        "id": "j8oJWDXxCom_"
      },
      "outputs": [],
      "source": [
        "class CIFAR100Model(ImageClassificationBase):\n",
        "        def __init__(self):\n",
        "                super().__init__()\n",
        "                self.network = torchvision.models.resnet18(pretrained=True)\n",
        "                num_ftrs = self.network.fc.in_features\n",
        "                self.network.fc = nn.Linear(num_ftrs, 100)\n",
        "        \n",
        "        def forward(self, xb):\n",
        "                return self.network(xb)\n",
        "            \n",
        "model = CIFAR100Model()"
      ]
    },
    {
      "cell_type": "code",
      "execution_count": null,
      "metadata": {
        "colab": {
          "background_save": true
        },
        "id": "gbftd4p-Cqyh"
      },
      "outputs": [],
      "source": [
        "def get_default_device():\n",
        "    \"\"\"Pick GPU if available, else CPU\"\"\"\n",
        "    if torch.cuda.is_available():\n",
        "        return torch.device('cuda')\n",
        "    else:\n",
        "        return torch.device('cpu')\n",
        "    \n",
        "def to_device(data, device):\n",
        "    \"\"\"Move tensor(s) to chosen device\"\"\"\n",
        "    if isinstance(data, (list,tuple)):\n",
        "        return [to_device(x, device) for x in data]\n",
        "    return data.to(device, non_blocking=True)\n",
        "\n",
        "class DeviceDataLoader():\n",
        "    \"\"\"Wrap a dataloader to move data to a device\"\"\"\n",
        "    def __init__(self, dl, device):\n",
        "        self.dl = dl\n",
        "        self.device = device\n",
        "        \n",
        "    def __iter__(self):\n",
        "        \"\"\"Yield a batch of data after moving it to device\"\"\"\n",
        "        for b in self.dl: \n",
        "            yield to_device(b, self.device)\n",
        "\n",
        "    def __len__(self):\n",
        "        \"\"\"Number of batches\"\"\"\n",
        "        return len(self.dl)\n",
        "\n",
        "device = get_default_device()"
      ]
    },
    {
      "cell_type": "code",
      "execution_count": null,
      "metadata": {
        "colab": {
          "background_save": true
        },
        "id": "eRz9LLbo2m3P"
      },
      "outputs": [],
      "source": [
        "train_dl = DeviceDataLoader(train_dl, device)\n",
        "val_dl = DeviceDataLoader(val_dl, device)\n",
        "to_device(model, device);\n",
        "\n",
        "@torch.no_grad()\n",
        "def evaluate(model, val_loader):\n",
        "    model.eval()\n",
        "    outputs = [model.validation_step(batch) for batch in val_loader]\n",
        "    return model.validation_epoch_end(outputs)\n",
        "\n",
        "def fit(epochs, lr, model, train_loader, val_loader, \n",
        "        weight_decay=0, opt_func=torch.optim.SGD):\n",
        "    history = []\n",
        "    optimizer = opt_func(model.parameters(), lr, weight_decay=weight_decay)\n",
        "    for epoch in range(epochs):\n",
        "        # Training Phase \n",
        "        model.train()\n",
        "        train_losses = []\n",
        "        for batch in train_loader:\n",
        "            loss = model.training_step(batch)\n",
        "            train_losses.append(loss)\n",
        "            loss.backward()\n",
        "            optimizer.step()\n",
        "            optimizer.zero_grad()\n",
        "        # Validation phase\n",
        "        result = evaluate(model, val_loader)\n",
        "        result['train_loss'] = torch.stack(train_losses).mean().item()\n",
        "        model.epoch_end(epoch, result)\n",
        "        history.append(result)\n",
        "    return history"
      ]
    },
    {
      "cell_type": "code",
      "execution_count": null,
      "metadata": {
        "colab": {
          "background_save": true
        },
        "id": "iij515amE1WQ"
      },
      "outputs": [],
      "source": [
        "model = to_device(CIFAR100Model(), device)\n",
        "evaluate(model, val_dl)"
      ]
    },
    {
      "cell_type": "markdown",
      "metadata": {
        "id": "LG1hGqUOrmuO"
      },
      "source": [
        "##TRAIN"
      ]
    },
    {
      "cell_type": "code",
      "execution_count": null,
      "metadata": {
        "colab": {
          "background_save": true
        },
        "id": "YSyU6Vf1zpwB"
      },
      "outputs": [],
      "source": [
        "opt_func = torch.optim.Adam\n",
        "history = fit(10, 1e-5, model, train_dl, val_dl, 5e-4, opt_func)"
      ]
    },
    {
      "cell_type": "code",
      "execution_count": null,
      "metadata": {
        "colab": {
          "base_uri": "https://localhost:8080/"
        },
        "id": "LOl16fVxE31I",
        "outputId": "93202c58-07a0-4136-97c8-46a1d760d5fa"
      },
      "outputs": [
        {
          "name": "stderr",
          "output_type": "stream",
          "text": [
            "/usr/local/lib/python3.7/dist-packages/torch/utils/data/dataloader.py:490: UserWarning: This DataLoader will create 4 worker processes in total. Our suggested max number of worker in current system is 2, which is smaller than what this DataLoader is going to create. Please be aware that excessive worker creation might get DataLoader running slow or even freeze, lower the worker number to avoid potential slowness/freeze if necessary.\n",
            "  cpuset_checked))\n"
          ]
        },
        {
          "name": "stdout",
          "output_type": "stream",
          "text": [
            "Epoch [0], train_loss: 4.2729, val_loss: 3.9407, val_acc: 0.1144\n",
            "Epoch [1], train_loss: 3.8045, val_loss: 3.6971, val_acc: 0.1500\n",
            "Epoch [2], train_loss: 3.5916, val_loss: 3.5240, val_acc: 0.1778\n",
            "Epoch [3], train_loss: 3.4357, val_loss: 3.4196, val_acc: 0.1936\n",
            "Epoch [4], train_loss: 3.3159, val_loss: 3.3345, val_acc: 0.2141\n",
            "Epoch [5], train_loss: 3.2060, val_loss: 3.2638, val_acc: 0.2275\n",
            "Epoch [6], train_loss: 3.1147, val_loss: 3.2043, val_acc: 0.2336\n",
            "Epoch [7], train_loss: 3.0371, val_loss: 3.1517, val_acc: 0.2461\n",
            "Epoch [8], train_loss: 2.9621, val_loss: 3.1143, val_acc: 0.2514\n",
            "Epoch [9], train_loss: 2.8881, val_loss: 3.0714, val_acc: 0.2609\n",
            "Epoch [10], train_loss: 2.8243, val_loss: 3.0385, val_acc: 0.2685\n",
            "Epoch [11], train_loss: 2.7638, val_loss: 3.0083, val_acc: 0.2721\n",
            "Epoch [12], train_loss: 2.6998, val_loss: 2.9852, val_acc: 0.2815\n",
            "Epoch [13], train_loss: 2.6396, val_loss: 2.9557, val_acc: 0.2849\n",
            "Epoch [14], train_loss: 2.5858, val_loss: 2.9464, val_acc: 0.2870\n",
            "Epoch [15], train_loss: 2.5328, val_loss: 2.9294, val_acc: 0.2864\n",
            "Epoch [16], train_loss: 2.4788, val_loss: 2.8959, val_acc: 0.2981\n",
            "Epoch [17], train_loss: 2.4304, val_loss: 2.8896, val_acc: 0.3015\n",
            "Epoch [18], train_loss: 2.3810, val_loss: 2.8718, val_acc: 0.3020\n",
            "Epoch [19], train_loss: 2.3356, val_loss: 2.8673, val_acc: 0.3052\n",
            "Epoch [20], train_loss: 2.2883, val_loss: 2.8293, val_acc: 0.3102\n",
            "Epoch [21], train_loss: 2.2422, val_loss: 2.8120, val_acc: 0.3196\n",
            "Epoch [22], train_loss: 2.2106, val_loss: 2.8081, val_acc: 0.3191\n",
            "Epoch [23], train_loss: 2.1692, val_loss: 2.8006, val_acc: 0.3239\n",
            "Epoch [24], train_loss: 2.1230, val_loss: 2.7961, val_acc: 0.3239\n",
            "Epoch [25], train_loss: 2.0828, val_loss: 2.7689, val_acc: 0.3252\n",
            "Epoch [26], train_loss: 2.0491, val_loss: 2.7745, val_acc: 0.3258\n",
            "Epoch [27], train_loss: 2.0155, val_loss: 2.7563, val_acc: 0.3314\n",
            "Epoch [28], train_loss: 1.9854, val_loss: 2.7286, val_acc: 0.3354\n",
            "Epoch [29], train_loss: 1.9489, val_loss: 2.7320, val_acc: 0.3371\n",
            "Epoch [30], train_loss: 1.9198, val_loss: 2.7116, val_acc: 0.3390\n",
            "Epoch [31], train_loss: 1.8904, val_loss: 2.7146, val_acc: 0.3377\n",
            "Epoch [32], train_loss: 1.8555, val_loss: 2.7023, val_acc: 0.3433\n",
            "Epoch [33], train_loss: 1.8409, val_loss: 2.7042, val_acc: 0.3465\n",
            "Epoch [34], train_loss: 1.8215, val_loss: 2.6802, val_acc: 0.3522\n",
            "Epoch [35], train_loss: 1.7836, val_loss: 2.6730, val_acc: 0.3477\n",
            "Epoch [36], train_loss: 1.7617, val_loss: 2.6423, val_acc: 0.3577\n",
            "Epoch [37], train_loss: 1.7438, val_loss: 2.6706, val_acc: 0.3547\n",
            "Epoch [38], train_loss: 1.7208, val_loss: 2.6617, val_acc: 0.3558\n",
            "Epoch [39], train_loss: 1.7071, val_loss: 2.6164, val_acc: 0.3657\n",
            "Epoch [40], train_loss: 1.6841, val_loss: 2.6444, val_acc: 0.3565\n",
            "Epoch [41], train_loss: 1.6716, val_loss: 2.5951, val_acc: 0.3699\n",
            "Epoch [42], train_loss: 1.6432, val_loss: 2.6407, val_acc: 0.3641\n",
            "Epoch [43], train_loss: 1.6324, val_loss: 2.5893, val_acc: 0.3705\n",
            "Epoch [44], train_loss: 1.6133, val_loss: 2.5832, val_acc: 0.3732\n",
            "Epoch [45], train_loss: 1.6060, val_loss: 2.5843, val_acc: 0.3751\n",
            "Epoch [46], train_loss: 1.5862, val_loss: 2.5731, val_acc: 0.3782\n",
            "Epoch [47], train_loss: 1.5704, val_loss: 2.5557, val_acc: 0.3810\n",
            "Epoch [48], train_loss: 1.5646, val_loss: 2.5616, val_acc: 0.3812\n",
            "Epoch [49], train_loss: 1.5484, val_loss: 2.5032, val_acc: 0.3872\n"
          ]
        }
      ],
      "source": [
        "opt_func = torch.optim.Adam\n",
        "history = fit(50, 1e-5, model, train_dl, val_dl, 5e-4, opt_func)"
      ]
    },
    {
      "cell_type": "markdown",
      "metadata": {
        "id": "2Ys0VmI5rpfT"
      },
      "source": [
        "##Change into PTN"
      ]
    },
    {
      "cell_type": "code",
      "execution_count": null,
      "metadata": {
        "id": "N60jnpd5GdkW"
      },
      "outputs": [],
      "source": [
        "model.fc = nn.Flatten()\n",
        "proto_mnist = PrototypicalNetworks(model).cuda()"
      ]
    },
    {
      "cell_type": "markdown",
      "metadata": {
        "id": "aFgECHN_rShd"
      },
      "source": [
        "##MNIST"
      ]
    },
    {
      "cell_type": "code",
      "execution_count": null,
      "metadata": {
        "colab": {
          "base_uri": "https://localhost:8080/"
        },
        "id": "jJFhpCO7GiSq",
        "outputId": "40b4f5fe-d16f-4f3c-a289-409dc0b71358"
      },
      "outputs": [
        {
          "name": "stderr",
          "output_type": "stream",
          "text": [
            "/usr/local/lib/python3.7/dist-packages/torch/utils/data/dataloader.py:490: UserWarning: This DataLoader will create 12 worker processes in total. Our suggested max number of worker in current system is 2, which is smaller than what this DataLoader is going to create. Please be aware that excessive worker creation might get DataLoader running slow or even freeze, lower the worker number to avoid potential slowness/freeze if necessary.\n",
            "  cpuset_checked))\n"
          ]
        },
        {
          "name": "stdout",
          "output_type": "stream",
          "text": [
            "The Average Accuracy is  0.7058\n"
          ]
        }
      ],
      "source": [
        "proto_mnist.eval() # set to evaluation mode\n",
        "\n",
        "data_iterator = iter(test_loader)\n",
        "# an example refers to the tuple: (support_imgs,support_labels,query_images,query_labels,class_ids)\n",
        "curExample = next(data_iterator,None)# return none if no other value left\n",
        "AverageAccuracy = []\n",
        "while curExample != None:\n",
        "  (support_imgs,\n",
        "  support_labels,\n",
        "  query_images,\n",
        "  query_labels,\n",
        "  class_ids) = curExample\n",
        "  scores = proto_mnist(support_imgs.cuda(),\n",
        "                  support_labels.cuda(),\n",
        "                  query_images.cuda()).detach()\n",
        "  _,predicted_label = torch.max(scores,dim=1)\n",
        "  predicted_label = predicted_label.detach().cpu().numpy()\n",
        "  true_label = query_labels.numpy()\n",
        "  # Compute the accuracy\n",
        "  correct,total = 0,0\n",
        "  for pred,real in zip(predicted_label,true_label):\n",
        "    if pred == real:\n",
        "      correct+=1\n",
        "    total+=1\n",
        "  AverageAccuracy.append(correct/total)\n",
        "  curExample = next(data_iterator,None)\n",
        "# Now calculate Average Accuracy:\n",
        "# print(AverageAccuracy)\n",
        "AverageAccuracy = np.mean(AverageAccuracy)\n",
        "print(\"The Average Accuracy is \",AverageAccuracy)"
      ]
    },
    {
      "cell_type": "markdown",
      "metadata": {
        "id": "_DZE_6RHrV6k"
      },
      "source": [
        "##OMNIGLOT"
      ]
    },
    {
      "cell_type": "code",
      "execution_count": null,
      "metadata": {
        "colab": {
          "base_uri": "https://localhost:8080/"
        },
        "id": "1p_0fEBglzm6",
        "outputId": "589d6468-6637-47f4-937b-8456cbaac981"
      },
      "outputs": [
        {
          "name": "stderr",
          "output_type": "stream",
          "text": [
            "/usr/local/lib/python3.7/dist-packages/torch/utils/data/dataloader.py:490: UserWarning: This DataLoader will create 12 worker processes in total. Our suggested max number of worker in current system is 2, which is smaller than what this DataLoader is going to create. Please be aware that excessive worker creation might get DataLoader running slow or even freeze, lower the worker number to avoid potential slowness/freeze if necessary.\n",
            "  cpuset_checked))\n"
          ]
        }
      ],
      "source": [
        "N_WAY = 5 # Number of classes in a task\n",
        "N_SHOT = 5 # Number of images per class in the support set\n",
        "N_QUERY = 10 # Number of images per class in the query set\n",
        "N_EVALUATION_TASKS = 100\n",
        "# get the labels\n",
        "test_set.labels = [\n",
        "    instance[1] for instance in test_set._flat_character_images\n",
        "]\n",
        "\n",
        "test_sampler = TaskSampler(\n",
        "    test_set, \n",
        "    n_way=N_WAY, \n",
        "    n_shot=N_SHOT, \n",
        "    n_query=N_QUERY, \n",
        "    n_tasks=N_EVALUATION_TASKS,\n",
        ")\n",
        "\n",
        "test_loader = DataLoader(\n",
        "    test_set,\n",
        "    batch_sampler=test_sampler,\n",
        "    num_workers=12,\n",
        "    pin_memory=True,\n",
        "    collate_fn=test_sampler.episodic_collate_fn,\n",
        ")"
      ]
    },
    {
      "cell_type": "code",
      "execution_count": null,
      "metadata": {
        "colab": {
          "base_uri": "https://localhost:8080/"
        },
        "id": "HQtlNrdgmAWP",
        "outputId": "4f537a9e-e8c4-4bfc-d996-56b3ad86e777"
      },
      "outputs": [
        {
          "name": "stderr",
          "output_type": "stream",
          "text": [
            "/usr/local/lib/python3.7/dist-packages/torch/utils/data/dataloader.py:490: UserWarning: This DataLoader will create 12 worker processes in total. Our suggested max number of worker in current system is 2, which is smaller than what this DataLoader is going to create. Please be aware that excessive worker creation might get DataLoader running slow or even freeze, lower the worker number to avoid potential slowness/freeze if necessary.\n",
            "  cpuset_checked))\n"
          ]
        },
        {
          "name": "stdout",
          "output_type": "stream",
          "text": [
            "The Average Accuracy is  0.705\n"
          ]
        }
      ],
      "source": [
        "proto_mnist.eval() # set to evaluation mode\n",
        "\n",
        "data_iterator = iter(test_loader)\n",
        "# an example refers to the tuple: (support_imgs,support_labels,query_images,query_labels,class_ids)\n",
        "curExample = next(data_iterator,None)# return none if no other value left\n",
        "AverageAccuracy = []\n",
        "while curExample != None:\n",
        "  (support_imgs,\n",
        "  support_labels,\n",
        "  query_images,\n",
        "  query_labels,\n",
        "  class_ids) = curExample\n",
        "  scores = proto_mnist(support_imgs.cuda(),\n",
        "                  support_labels.cuda(),\n",
        "                  query_images.cuda()).detach()\n",
        "  _,predicted_label = torch.max(scores,dim=1)\n",
        "  predicted_label = predicted_label.detach().cpu().numpy()\n",
        "  true_label = query_labels.numpy()\n",
        "  # Compute the accuracy\n",
        "  correct,total = 0,0\n",
        "  for pred,real in zip(predicted_label,true_label):\n",
        "    if pred == real:\n",
        "      correct+=1\n",
        "    total+=1\n",
        "  AverageAccuracy.append(correct/total)\n",
        "  curExample = next(data_iterator,None)\n",
        "# Now calculate Average Accuracy:\n",
        "# print(AverageAccuracy)\n",
        "AverageAccuracy = np.mean(AverageAccuracy)\n",
        "print(\"The Average Accuracy is \",AverageAccuracy)"
      ]
    }
  ],
  "metadata": {
    "accelerator": "GPU",
    "colab": {
      "collapsed_sections": [
        "wmcQNM0tbAmo"
      ],
      "name": "PrototypicalNetworks.ipynb",
      "toc_visible": true,
      "provenance": [],
      "include_colab_link": true
    },
    "kernelspec": {
      "display_name": "Python 3",
      "name": "python3"
    },
    "language_info": {
      "name": "python"
    },
    "widgets": {
      "application/vnd.jupyter.widget-state+json": {
        "019752ffb63b4af19c0dfa18d6d56ff4": {
          "model_module": "@jupyter-widgets/controls",
          "model_module_version": "1.5.0",
          "model_name": "DescriptionStyleModel",
          "state": {
            "_model_module": "@jupyter-widgets/controls",
            "_model_module_version": "1.5.0",
            "_model_name": "DescriptionStyleModel",
            "_view_count": null,
            "_view_module": "@jupyter-widgets/base",
            "_view_module_version": "1.2.0",
            "_view_name": "StyleView",
            "description_width": ""
          }
        },
        "01e71d5d8f994734a3840de83bf78657": {
          "model_module": "@jupyter-widgets/controls",
          "model_module_version": "1.5.0",
          "model_name": "HBoxModel",
          "state": {
            "_dom_classes": [],
            "_model_module": "@jupyter-widgets/controls",
            "_model_module_version": "1.5.0",
            "_model_name": "HBoxModel",
            "_view_count": null,
            "_view_module": "@jupyter-widgets/controls",
            "_view_module_version": "1.5.0",
            "_view_name": "HBoxView",
            "box_style": "",
            "children": [
              "IPY_MODEL_e1c1e5866f1444be84c5c4d60116c37a",
              "IPY_MODEL_9b9171ae7ff741d3aeec38128d389e28",
              "IPY_MODEL_0bad10176aeb44d7a9b234bef587f43a"
            ],
            "layout": "IPY_MODEL_f2fe3e1ab1e8419583026746189fd718"
          }
        },
        "03a00e9bd6d54996b53c92b27d5b1b98": {
          "model_module": "@jupyter-widgets/base",
          "model_module_version": "1.2.0",
          "model_name": "LayoutModel",
          "state": {
            "_model_module": "@jupyter-widgets/base",
            "_model_module_version": "1.2.0",
            "_model_name": "LayoutModel",
            "_view_count": null,
            "_view_module": "@jupyter-widgets/base",
            "_view_module_version": "1.2.0",
            "_view_name": "LayoutView",
            "align_content": null,
            "align_items": null,
            "align_self": null,
            "border": null,
            "bottom": null,
            "display": null,
            "flex": null,
            "flex_flow": null,
            "grid_area": null,
            "grid_auto_columns": null,
            "grid_auto_flow": null,
            "grid_auto_rows": null,
            "grid_column": null,
            "grid_gap": null,
            "grid_row": null,
            "grid_template_areas": null,
            "grid_template_columns": null,
            "grid_template_rows": null,
            "height": null,
            "justify_content": null,
            "justify_items": null,
            "left": null,
            "margin": null,
            "max_height": null,
            "max_width": null,
            "min_height": null,
            "min_width": null,
            "object_fit": null,
            "object_position": null,
            "order": null,
            "overflow": null,
            "overflow_x": null,
            "overflow_y": null,
            "padding": null,
            "right": null,
            "top": null,
            "visibility": null,
            "width": null
          }
        },
        "052869a70de9466c9dad7bc586d98126": {
          "model_module": "@jupyter-widgets/controls",
          "model_module_version": "1.5.0",
          "model_name": "HTMLModel",
          "state": {
            "_dom_classes": [],
            "_model_module": "@jupyter-widgets/controls",
            "_model_module_version": "1.5.0",
            "_model_name": "HTMLModel",
            "_view_count": null,
            "_view_module": "@jupyter-widgets/controls",
            "_view_module_version": "1.5.0",
            "_view_name": "HTMLView",
            "description": "",
            "description_tooltip": null,
            "layout": "IPY_MODEL_2cb3799c5fe843c3a6396146023c0aec",
            "placeholder": "​",
            "style": "IPY_MODEL_4db8e0cdeff84e2bbce347ec81febd86",
            "value": ""
          }
        },
        "0816bb32552146398d0f983b9bdda4a3": {
          "model_module": "@jupyter-widgets/base",
          "model_module_version": "1.2.0",
          "model_name": "LayoutModel",
          "state": {
            "_model_module": "@jupyter-widgets/base",
            "_model_module_version": "1.2.0",
            "_model_name": "LayoutModel",
            "_view_count": null,
            "_view_module": "@jupyter-widgets/base",
            "_view_module_version": "1.2.0",
            "_view_name": "LayoutView",
            "align_content": null,
            "align_items": null,
            "align_self": null,
            "border": null,
            "bottom": null,
            "display": null,
            "flex": null,
            "flex_flow": null,
            "grid_area": null,
            "grid_auto_columns": null,
            "grid_auto_flow": null,
            "grid_auto_rows": null,
            "grid_column": null,
            "grid_gap": null,
            "grid_row": null,
            "grid_template_areas": null,
            "grid_template_columns": null,
            "grid_template_rows": null,
            "height": null,
            "justify_content": null,
            "justify_items": null,
            "left": null,
            "margin": null,
            "max_height": null,
            "max_width": null,
            "min_height": null,
            "min_width": null,
            "object_fit": null,
            "object_position": null,
            "order": null,
            "overflow": null,
            "overflow_x": null,
            "overflow_y": null,
            "padding": null,
            "right": null,
            "top": null,
            "visibility": null,
            "width": null
          }
        },
        "0bad10176aeb44d7a9b234bef587f43a": {
          "model_module": "@jupyter-widgets/controls",
          "model_module_version": "1.5.0",
          "model_name": "HTMLModel",
          "state": {
            "_dom_classes": [],
            "_model_module": "@jupyter-widgets/controls",
            "_model_module_version": "1.5.0",
            "_model_name": "HTMLModel",
            "_view_count": null,
            "_view_module": "@jupyter-widgets/controls",
            "_view_module_version": "1.5.0",
            "_view_name": "HTMLView",
            "description": "",
            "description_tooltip": null,
            "layout": "IPY_MODEL_0816bb32552146398d0f983b9bdda4a3",
            "placeholder": "​",
            "style": "IPY_MODEL_2f95e38ebc774400aa62a8d649ec7c5d",
            "value": " 6463488/? [00:00&lt;00:00, 18755352.48it/s]"
          }
        },
        "0c3f9e60880d4c68ade075eb39c89a0f": {
          "model_module": "@jupyter-widgets/controls",
          "model_module_version": "1.5.0",
          "model_name": "FloatProgressModel",
          "state": {
            "_dom_classes": [],
            "_model_module": "@jupyter-widgets/controls",
            "_model_module_version": "1.5.0",
            "_model_name": "FloatProgressModel",
            "_view_count": null,
            "_view_module": "@jupyter-widgets/controls",
            "_view_module_version": "1.5.0",
            "_view_name": "ProgressView",
            "bar_style": "success",
            "description": "",
            "description_tooltip": null,
            "layout": "IPY_MODEL_dc3f7d1e3bad4d9b97b05b1ed46f9722",
            "max": 4542,
            "min": 0,
            "orientation": "horizontal",
            "style": "IPY_MODEL_1436557d419b4e19bc2087330bd3c482",
            "value": 4542
          }
        },
        "0cf3f0db9dba47f3be62691a69517924": {
          "model_module": "@jupyter-widgets/base",
          "model_module_version": "1.2.0",
          "model_name": "LayoutModel",
          "state": {
            "_model_module": "@jupyter-widgets/base",
            "_model_module_version": "1.2.0",
            "_model_name": "LayoutModel",
            "_view_count": null,
            "_view_module": "@jupyter-widgets/base",
            "_view_module_version": "1.2.0",
            "_view_name": "LayoutView",
            "align_content": null,
            "align_items": null,
            "align_self": null,
            "border": null,
            "bottom": null,
            "display": null,
            "flex": null,
            "flex_flow": null,
            "grid_area": null,
            "grid_auto_columns": null,
            "grid_auto_flow": null,
            "grid_auto_rows": null,
            "grid_column": null,
            "grid_gap": null,
            "grid_row": null,
            "grid_template_areas": null,
            "grid_template_columns": null,
            "grid_template_rows": null,
            "height": null,
            "justify_content": null,
            "justify_items": null,
            "left": null,
            "margin": null,
            "max_height": null,
            "max_width": null,
            "min_height": null,
            "min_width": null,
            "object_fit": null,
            "object_position": null,
            "order": null,
            "overflow": null,
            "overflow_x": null,
            "overflow_y": null,
            "padding": null,
            "right": null,
            "top": null,
            "visibility": null,
            "width": null
          }
        },
        "121b3c70be0444e087e6797e2a6c834e": {
          "model_module": "@jupyter-widgets/controls",
          "model_module_version": "1.5.0",
          "model_name": "DescriptionStyleModel",
          "state": {
            "_model_module": "@jupyter-widgets/controls",
            "_model_module_version": "1.5.0",
            "_model_name": "DescriptionStyleModel",
            "_view_count": null,
            "_view_module": "@jupyter-widgets/base",
            "_view_module_version": "1.2.0",
            "_view_name": "StyleView",
            "description_width": ""
          }
        },
        "1251873819de485bb0c0792bdeb52eca": {
          "model_module": "@jupyter-widgets/base",
          "model_module_version": "1.2.0",
          "model_name": "LayoutModel",
          "state": {
            "_model_module": "@jupyter-widgets/base",
            "_model_module_version": "1.2.0",
            "_model_name": "LayoutModel",
            "_view_count": null,
            "_view_module": "@jupyter-widgets/base",
            "_view_module_version": "1.2.0",
            "_view_name": "LayoutView",
            "align_content": null,
            "align_items": null,
            "align_self": null,
            "border": null,
            "bottom": null,
            "display": null,
            "flex": null,
            "flex_flow": null,
            "grid_area": null,
            "grid_auto_columns": null,
            "grid_auto_flow": null,
            "grid_auto_rows": null,
            "grid_column": null,
            "grid_gap": null,
            "grid_row": null,
            "grid_template_areas": null,
            "grid_template_columns": null,
            "grid_template_rows": null,
            "height": null,
            "justify_content": null,
            "justify_items": null,
            "left": null,
            "margin": null,
            "max_height": null,
            "max_width": null,
            "min_height": null,
            "min_width": null,
            "object_fit": null,
            "object_position": null,
            "order": null,
            "overflow": null,
            "overflow_x": null,
            "overflow_y": null,
            "padding": null,
            "right": null,
            "top": null,
            "visibility": null,
            "width": null
          }
        },
        "1436557d419b4e19bc2087330bd3c482": {
          "model_module": "@jupyter-widgets/controls",
          "model_module_version": "1.5.0",
          "model_name": "ProgressStyleModel",
          "state": {
            "_model_module": "@jupyter-widgets/controls",
            "_model_module_version": "1.5.0",
            "_model_name": "ProgressStyleModel",
            "_view_count": null,
            "_view_module": "@jupyter-widgets/base",
            "_view_module_version": "1.2.0",
            "_view_name": "StyleView",
            "bar_color": null,
            "description_width": ""
          }
        },
        "16931938b351452c95904b68425e72f4": {
          "model_module": "@jupyter-widgets/controls",
          "model_module_version": "1.5.0",
          "model_name": "DescriptionStyleModel",
          "state": {
            "_model_module": "@jupyter-widgets/controls",
            "_model_module_version": "1.5.0",
            "_model_name": "DescriptionStyleModel",
            "_view_count": null,
            "_view_module": "@jupyter-widgets/base",
            "_view_module_version": "1.2.0",
            "_view_name": "StyleView",
            "description_width": ""
          }
        },
        "1d2b633096de477bb00ba5bf77659b3d": {
          "model_module": "@jupyter-widgets/base",
          "model_module_version": "1.2.0",
          "model_name": "LayoutModel",
          "state": {
            "_model_module": "@jupyter-widgets/base",
            "_model_module_version": "1.2.0",
            "_model_name": "LayoutModel",
            "_view_count": null,
            "_view_module": "@jupyter-widgets/base",
            "_view_module_version": "1.2.0",
            "_view_name": "LayoutView",
            "align_content": null,
            "align_items": null,
            "align_self": null,
            "border": null,
            "bottom": null,
            "display": null,
            "flex": null,
            "flex_flow": null,
            "grid_area": null,
            "grid_auto_columns": null,
            "grid_auto_flow": null,
            "grid_auto_rows": null,
            "grid_column": null,
            "grid_gap": null,
            "grid_row": null,
            "grid_template_areas": null,
            "grid_template_columns": null,
            "grid_template_rows": null,
            "height": null,
            "justify_content": null,
            "justify_items": null,
            "left": null,
            "margin": null,
            "max_height": null,
            "max_width": null,
            "min_height": null,
            "min_width": null,
            "object_fit": null,
            "object_position": null,
            "order": null,
            "overflow": null,
            "overflow_x": null,
            "overflow_y": null,
            "padding": null,
            "right": null,
            "top": null,
            "visibility": null,
            "width": null
          }
        },
        "1e34ec0999584a89bd47ba14c4f5e0a0": {
          "model_module": "@jupyter-widgets/base",
          "model_module_version": "1.2.0",
          "model_name": "LayoutModel",
          "state": {
            "_model_module": "@jupyter-widgets/base",
            "_model_module_version": "1.2.0",
            "_model_name": "LayoutModel",
            "_view_count": null,
            "_view_module": "@jupyter-widgets/base",
            "_view_module_version": "1.2.0",
            "_view_name": "LayoutView",
            "align_content": null,
            "align_items": null,
            "align_self": null,
            "border": null,
            "bottom": null,
            "display": null,
            "flex": null,
            "flex_flow": null,
            "grid_area": null,
            "grid_auto_columns": null,
            "grid_auto_flow": null,
            "grid_auto_rows": null,
            "grid_column": null,
            "grid_gap": null,
            "grid_row": null,
            "grid_template_areas": null,
            "grid_template_columns": null,
            "grid_template_rows": null,
            "height": null,
            "justify_content": null,
            "justify_items": null,
            "left": null,
            "margin": null,
            "max_height": null,
            "max_width": null,
            "min_height": null,
            "min_width": null,
            "object_fit": null,
            "object_position": null,
            "order": null,
            "overflow": null,
            "overflow_x": null,
            "overflow_y": null,
            "padding": null,
            "right": null,
            "top": null,
            "visibility": null,
            "width": null
          }
        },
        "27523a7f815046b7aed25ceb80db5ac0": {
          "model_module": "@jupyter-widgets/controls",
          "model_module_version": "1.5.0",
          "model_name": "HBoxModel",
          "state": {
            "_dom_classes": [],
            "_model_module": "@jupyter-widgets/controls",
            "_model_module_version": "1.5.0",
            "_model_name": "HBoxModel",
            "_view_count": null,
            "_view_module": "@jupyter-widgets/controls",
            "_view_module_version": "1.5.0",
            "_view_name": "HBoxView",
            "box_style": "",
            "children": [
              "IPY_MODEL_dde973aaf96249fe84461ae285736a1b",
              "IPY_MODEL_3a3ca1beee7b40f7b89d144c48d2ca2d",
              "IPY_MODEL_b53397d96de94847996ecc5da1adf1dc"
            ],
            "layout": "IPY_MODEL_470c3dedcaba41e4974979eafafb28bb"
          }
        },
        "29f178e486d0447192f51e23f91320fc": {
          "model_module": "@jupyter-widgets/controls",
          "model_module_version": "1.5.0",
          "model_name": "HTMLModel",
          "state": {
            "_dom_classes": [],
            "_model_module": "@jupyter-widgets/controls",
            "_model_module_version": "1.5.0",
            "_model_name": "HTMLModel",
            "_view_count": null,
            "_view_module": "@jupyter-widgets/controls",
            "_view_module_version": "1.5.0",
            "_view_name": "HTMLView",
            "description": "",
            "description_tooltip": null,
            "layout": "IPY_MODEL_fb0a0f75db6d41ad8c28bb59c68305a3",
            "placeholder": "​",
            "style": "IPY_MODEL_c52588f9ed794fe2acde0a295be773b1",
            "value": " 29696/? [00:00&lt;00:00, 754648.93it/s]"
          }
        },
        "2bfb75b47d4d4ee28c8ed0898b7efa16": {
          "model_module": "@jupyter-widgets/controls",
          "model_module_version": "1.5.0",
          "model_name": "ProgressStyleModel",
          "state": {
            "_model_module": "@jupyter-widgets/controls",
            "_model_module_version": "1.5.0",
            "_model_name": "ProgressStyleModel",
            "_view_count": null,
            "_view_module": "@jupyter-widgets/base",
            "_view_module_version": "1.2.0",
            "_view_name": "StyleView",
            "bar_color": null,
            "description_width": ""
          }
        },
        "2cb3799c5fe843c3a6396146023c0aec": {
          "model_module": "@jupyter-widgets/base",
          "model_module_version": "1.2.0",
          "model_name": "LayoutModel",
          "state": {
            "_model_module": "@jupyter-widgets/base",
            "_model_module_version": "1.2.0",
            "_model_name": "LayoutModel",
            "_view_count": null,
            "_view_module": "@jupyter-widgets/base",
            "_view_module_version": "1.2.0",
            "_view_name": "LayoutView",
            "align_content": null,
            "align_items": null,
            "align_self": null,
            "border": null,
            "bottom": null,
            "display": null,
            "flex": null,
            "flex_flow": null,
            "grid_area": null,
            "grid_auto_columns": null,
            "grid_auto_flow": null,
            "grid_auto_rows": null,
            "grid_column": null,
            "grid_gap": null,
            "grid_row": null,
            "grid_template_areas": null,
            "grid_template_columns": null,
            "grid_template_rows": null,
            "height": null,
            "justify_content": null,
            "justify_items": null,
            "left": null,
            "margin": null,
            "max_height": null,
            "max_width": null,
            "min_height": null,
            "min_width": null,
            "object_fit": null,
            "object_position": null,
            "order": null,
            "overflow": null,
            "overflow_x": null,
            "overflow_y": null,
            "padding": null,
            "right": null,
            "top": null,
            "visibility": null,
            "width": null
          }
        },
        "2f95e38ebc774400aa62a8d649ec7c5d": {
          "model_module": "@jupyter-widgets/controls",
          "model_module_version": "1.5.0",
          "model_name": "DescriptionStyleModel",
          "state": {
            "_model_module": "@jupyter-widgets/controls",
            "_model_module_version": "1.5.0",
            "_model_name": "DescriptionStyleModel",
            "_view_count": null,
            "_view_module": "@jupyter-widgets/base",
            "_view_module_version": "1.2.0",
            "_view_name": "StyleView",
            "description_width": ""
          }
        },
        "30eee8c3554340f0b3e70bec8bd5966f": {
          "model_module": "@jupyter-widgets/controls",
          "model_module_version": "1.5.0",
          "model_name": "HTMLModel",
          "state": {
            "_dom_classes": [],
            "_model_module": "@jupyter-widgets/controls",
            "_model_module_version": "1.5.0",
            "_model_name": "HTMLModel",
            "_view_count": null,
            "_view_module": "@jupyter-widgets/controls",
            "_view_module_version": "1.5.0",
            "_view_name": "HTMLView",
            "description": "",
            "description_tooltip": null,
            "layout": "IPY_MODEL_a5cd05afad8a4426bd1dc8c83cefdfba",
            "placeholder": "​",
            "style": "IPY_MODEL_636ac49617124546a730877b9c9d8c18",
            "value": " 1649664/? [00:00&lt;00:00, 16906138.75it/s]"
          }
        },
        "321e4cc6b01e46de8768791e13b851ab": {
          "model_module": "@jupyter-widgets/controls",
          "model_module_version": "1.5.0",
          "model_name": "FloatProgressModel",
          "state": {
            "_dom_classes": [],
            "_model_module": "@jupyter-widgets/controls",
            "_model_module_version": "1.5.0",
            "_model_name": "FloatProgressModel",
            "_view_count": null,
            "_view_module": "@jupyter-widgets/controls",
            "_view_module_version": "1.5.0",
            "_view_name": "ProgressView",
            "bar_style": "success",
            "description": "",
            "description_tooltip": null,
            "layout": "IPY_MODEL_1e34ec0999584a89bd47ba14c4f5e0a0",
            "max": 9464212,
            "min": 0,
            "orientation": "horizontal",
            "style": "IPY_MODEL_4bb95e66023441d18c60339d1d63179f",
            "value": 9464212
          }
        },
        "33fd1e92209141c79c06a4f531efff2a": {
          "model_module": "@jupyter-widgets/controls",
          "model_module_version": "1.5.0",
          "model_name": "DescriptionStyleModel",
          "state": {
            "_model_module": "@jupyter-widgets/controls",
            "_model_module_version": "1.5.0",
            "_model_name": "DescriptionStyleModel",
            "_view_count": null,
            "_view_module": "@jupyter-widgets/base",
            "_view_module_version": "1.2.0",
            "_view_name": "StyleView",
            "description_width": ""
          }
        },
        "38f52f92a34e470ab6f7e79ad0309ffb": {
          "model_module": "@jupyter-widgets/base",
          "model_module_version": "1.2.0",
          "model_name": "LayoutModel",
          "state": {
            "_model_module": "@jupyter-widgets/base",
            "_model_module_version": "1.2.0",
            "_model_name": "LayoutModel",
            "_view_count": null,
            "_view_module": "@jupyter-widgets/base",
            "_view_module_version": "1.2.0",
            "_view_name": "LayoutView",
            "align_content": null,
            "align_items": null,
            "align_self": null,
            "border": null,
            "bottom": null,
            "display": null,
            "flex": null,
            "flex_flow": null,
            "grid_area": null,
            "grid_auto_columns": null,
            "grid_auto_flow": null,
            "grid_auto_rows": null,
            "grid_column": null,
            "grid_gap": null,
            "grid_row": null,
            "grid_template_areas": null,
            "grid_template_columns": null,
            "grid_template_rows": null,
            "height": null,
            "justify_content": null,
            "justify_items": null,
            "left": null,
            "margin": null,
            "max_height": null,
            "max_width": null,
            "min_height": null,
            "min_width": null,
            "object_fit": null,
            "object_position": null,
            "order": null,
            "overflow": null,
            "overflow_x": null,
            "overflow_y": null,
            "padding": null,
            "right": null,
            "top": null,
            "visibility": null,
            "width": null
          }
        },
        "3a3ca1beee7b40f7b89d144c48d2ca2d": {
          "model_module": "@jupyter-widgets/controls",
          "model_module_version": "1.5.0",
          "model_name": "FloatProgressModel",
          "state": {
            "_dom_classes": [],
            "_model_module": "@jupyter-widgets/controls",
            "_model_module_version": "1.5.0",
            "_model_name": "FloatProgressModel",
            "_view_count": null,
            "_view_module": "@jupyter-widgets/controls",
            "_view_module_version": "1.5.0",
            "_view_name": "ProgressView",
            "bar_style": "success",
            "description": "",
            "description_tooltip": null,
            "layout": "IPY_MODEL_b9ae42c851504a5987b528b44aac6533",
            "max": 46830571,
            "min": 0,
            "orientation": "horizontal",
            "style": "IPY_MODEL_d4bddd71ba104f9e9fdecd614bff6d32",
            "value": 46830571
          }
        },
        "45b67afe71424f94affb0cbcf3b61390": {
          "model_module": "@jupyter-widgets/controls",
          "model_module_version": "1.5.0",
          "model_name": "HBoxModel",
          "state": {
            "_dom_classes": [],
            "_model_module": "@jupyter-widgets/controls",
            "_model_module_version": "1.5.0",
            "_model_name": "HBoxModel",
            "_view_count": null,
            "_view_module": "@jupyter-widgets/controls",
            "_view_module_version": "1.5.0",
            "_view_name": "HBoxView",
            "box_style": "",
            "children": [
              "IPY_MODEL_ba95facb8f4a45748c3d284cb2503e9f",
              "IPY_MODEL_321e4cc6b01e46de8768791e13b851ab",
              "IPY_MODEL_80bdb0180dc14c9c8e04f2c356197880"
            ],
            "layout": "IPY_MODEL_9d54adb7ad5242cb809bb45863867e9c"
          }
        },
        "470c3dedcaba41e4974979eafafb28bb": {
          "model_module": "@jupyter-widgets/base",
          "model_module_version": "1.2.0",
          "model_name": "LayoutModel",
          "state": {
            "_model_module": "@jupyter-widgets/base",
            "_model_module_version": "1.2.0",
            "_model_name": "LayoutModel",
            "_view_count": null,
            "_view_module": "@jupyter-widgets/base",
            "_view_module_version": "1.2.0",
            "_view_name": "LayoutView",
            "align_content": null,
            "align_items": null,
            "align_self": null,
            "border": null,
            "bottom": null,
            "display": null,
            "flex": null,
            "flex_flow": null,
            "grid_area": null,
            "grid_auto_columns": null,
            "grid_auto_flow": null,
            "grid_auto_rows": null,
            "grid_column": null,
            "grid_gap": null,
            "grid_row": null,
            "grid_template_areas": null,
            "grid_template_columns": null,
            "grid_template_rows": null,
            "height": null,
            "justify_content": null,
            "justify_items": null,
            "left": null,
            "margin": null,
            "max_height": null,
            "max_width": null,
            "min_height": null,
            "min_width": null,
            "object_fit": null,
            "object_position": null,
            "order": null,
            "overflow": null,
            "overflow_x": null,
            "overflow_y": null,
            "padding": null,
            "right": null,
            "top": null,
            "visibility": null,
            "width": null
          }
        },
        "4bb95e66023441d18c60339d1d63179f": {
          "model_module": "@jupyter-widgets/controls",
          "model_module_version": "1.5.0",
          "model_name": "ProgressStyleModel",
          "state": {
            "_model_module": "@jupyter-widgets/controls",
            "_model_module_version": "1.5.0",
            "_model_name": "ProgressStyleModel",
            "_view_count": null,
            "_view_module": "@jupyter-widgets/base",
            "_view_module_version": "1.2.0",
            "_view_name": "StyleView",
            "bar_color": null,
            "description_width": ""
          }
        },
        "4db8e0cdeff84e2bbce347ec81febd86": {
          "model_module": "@jupyter-widgets/controls",
          "model_module_version": "1.5.0",
          "model_name": "DescriptionStyleModel",
          "state": {
            "_model_module": "@jupyter-widgets/controls",
            "_model_module_version": "1.5.0",
            "_model_name": "DescriptionStyleModel",
            "_view_count": null,
            "_view_module": "@jupyter-widgets/base",
            "_view_module_version": "1.2.0",
            "_view_name": "StyleView",
            "description_width": ""
          }
        },
        "4fdb86ad758f42e1a9e476e4f72fbd9e": {
          "model_module": "@jupyter-widgets/controls",
          "model_module_version": "1.5.0",
          "model_name": "HTMLModel",
          "state": {
            "_dom_classes": [],
            "_model_module": "@jupyter-widgets/controls",
            "_model_module_version": "1.5.0",
            "_model_name": "HTMLModel",
            "_view_count": null,
            "_view_module": "@jupyter-widgets/controls",
            "_view_module_version": "1.5.0",
            "_view_name": "HTMLView",
            "description": "",
            "description_tooltip": null,
            "layout": "IPY_MODEL_89e58b8c22064909a0e5f5b1215222cf",
            "placeholder": "​",
            "style": "IPY_MODEL_81c79223f11740e4b7e51d301ca9eb61",
            "value": " 5120/? [00:00&lt;00:00, 109915.43it/s]"
          }
        },
        "51c7755058aa4a33b4c18911f40c9ae4": {
          "model_module": "@jupyter-widgets/controls",
          "model_module_version": "1.5.0",
          "model_name": "HTMLModel",
          "state": {
            "_dom_classes": [],
            "_model_module": "@jupyter-widgets/controls",
            "_model_module_version": "1.5.0",
            "_model_name": "HTMLModel",
            "_view_count": null,
            "_view_module": "@jupyter-widgets/controls",
            "_view_module_version": "1.5.0",
            "_view_name": "HTMLView",
            "description": "",
            "description_tooltip": null,
            "layout": "IPY_MODEL_bba0fa43e6e546f8b83b05be21d933d8",
            "placeholder": "​",
            "style": "IPY_MODEL_16931938b351452c95904b68425e72f4",
            "value": " 9913344/? [00:00&lt;00:00, 47284272.25it/s]"
          }
        },
        "5402ac382d7342609e69830213d0772a": {
          "model_module": "@jupyter-widgets/controls",
          "model_module_version": "1.5.0",
          "model_name": "HBoxModel",
          "state": {
            "_dom_classes": [],
            "_model_module": "@jupyter-widgets/controls",
            "_model_module_version": "1.5.0",
            "_model_name": "HBoxModel",
            "_view_count": null,
            "_view_module": "@jupyter-widgets/controls",
            "_view_module_version": "1.5.0",
            "_view_name": "HBoxView",
            "box_style": "",
            "children": [
              "IPY_MODEL_052869a70de9466c9dad7bc586d98126",
              "IPY_MODEL_59b8b10a6e764439824bdcda59f5aa85",
              "IPY_MODEL_51c7755058aa4a33b4c18911f40c9ae4"
            ],
            "layout": "IPY_MODEL_ac04a1affa4a4beba561eb44d25e2802"
          }
        },
        "59b8b10a6e764439824bdcda59f5aa85": {
          "model_module": "@jupyter-widgets/controls",
          "model_module_version": "1.5.0",
          "model_name": "FloatProgressModel",
          "state": {
            "_dom_classes": [],
            "_model_module": "@jupyter-widgets/controls",
            "_model_module_version": "1.5.0",
            "_model_name": "FloatProgressModel",
            "_view_count": null,
            "_view_module": "@jupyter-widgets/controls",
            "_view_module_version": "1.5.0",
            "_view_name": "ProgressView",
            "bar_style": "success",
            "description": "",
            "description_tooltip": null,
            "layout": "IPY_MODEL_70c113758bd3404da65860c34a1677c9",
            "max": 9912422,
            "min": 0,
            "orientation": "horizontal",
            "style": "IPY_MODEL_2bfb75b47d4d4ee28c8ed0898b7efa16",
            "value": 9912422
          }
        },
        "636ac49617124546a730877b9c9d8c18": {
          "model_module": "@jupyter-widgets/controls",
          "model_module_version": "1.5.0",
          "model_name": "DescriptionStyleModel",
          "state": {
            "_model_module": "@jupyter-widgets/controls",
            "_model_module_version": "1.5.0",
            "_model_name": "DescriptionStyleModel",
            "_view_count": null,
            "_view_module": "@jupyter-widgets/base",
            "_view_module_version": "1.2.0",
            "_view_name": "StyleView",
            "description_width": ""
          }
        },
        "686a2d3d03da44fd9631ff3607f13cd2": {
          "model_module": "@jupyter-widgets/controls",
          "model_module_version": "1.5.0",
          "model_name": "HBoxModel",
          "state": {
            "_dom_classes": [],
            "_model_module": "@jupyter-widgets/controls",
            "_model_module_version": "1.5.0",
            "_model_name": "HBoxModel",
            "_view_count": null,
            "_view_module": "@jupyter-widgets/controls",
            "_view_module_version": "1.5.0",
            "_view_name": "HBoxView",
            "box_style": "",
            "children": [
              "IPY_MODEL_99200a3a791d4464bb1bdb13c6cb83ad",
              "IPY_MODEL_0c3f9e60880d4c68ade075eb39c89a0f",
              "IPY_MODEL_4fdb86ad758f42e1a9e476e4f72fbd9e"
            ],
            "layout": "IPY_MODEL_8ae3db3950864c59b941d8871e387a18"
          }
        },
        "70c113758bd3404da65860c34a1677c9": {
          "model_module": "@jupyter-widgets/base",
          "model_module_version": "1.2.0",
          "model_name": "LayoutModel",
          "state": {
            "_model_module": "@jupyter-widgets/base",
            "_model_module_version": "1.2.0",
            "_model_name": "LayoutModel",
            "_view_count": null,
            "_view_module": "@jupyter-widgets/base",
            "_view_module_version": "1.2.0",
            "_view_name": "LayoutView",
            "align_content": null,
            "align_items": null,
            "align_self": null,
            "border": null,
            "bottom": null,
            "display": null,
            "flex": null,
            "flex_flow": null,
            "grid_area": null,
            "grid_auto_columns": null,
            "grid_auto_flow": null,
            "grid_auto_rows": null,
            "grid_column": null,
            "grid_gap": null,
            "grid_row": null,
            "grid_template_areas": null,
            "grid_template_columns": null,
            "grid_template_rows": null,
            "height": null,
            "justify_content": null,
            "justify_items": null,
            "left": null,
            "margin": null,
            "max_height": null,
            "max_width": null,
            "min_height": null,
            "min_width": null,
            "object_fit": null,
            "object_position": null,
            "order": null,
            "overflow": null,
            "overflow_x": null,
            "overflow_y": null,
            "padding": null,
            "right": null,
            "top": null,
            "visibility": null,
            "width": null
          }
        },
        "711b21c3c6884dde93f875bfe3196380": {
          "model_module": "@jupyter-widgets/controls",
          "model_module_version": "1.5.0",
          "model_name": "HTMLModel",
          "state": {
            "_dom_classes": [],
            "_model_module": "@jupyter-widgets/controls",
            "_model_module_version": "1.5.0",
            "_model_name": "HTMLModel",
            "_view_count": null,
            "_view_module": "@jupyter-widgets/controls",
            "_view_module_version": "1.5.0",
            "_view_name": "HTMLView",
            "description": "",
            "description_tooltip": null,
            "layout": "IPY_MODEL_0cf3f0db9dba47f3be62691a69517924",
            "placeholder": "​",
            "style": "IPY_MODEL_c8af16148619480d9b6f5c9386453d4f",
            "value": ""
          }
        },
        "7217d99c648e418aac16935eaf04a925": {
          "model_module": "@jupyter-widgets/base",
          "model_module_version": "1.2.0",
          "model_name": "LayoutModel",
          "state": {
            "_model_module": "@jupyter-widgets/base",
            "_model_module_version": "1.2.0",
            "_model_name": "LayoutModel",
            "_view_count": null,
            "_view_module": "@jupyter-widgets/base",
            "_view_module_version": "1.2.0",
            "_view_name": "LayoutView",
            "align_content": null,
            "align_items": null,
            "align_self": null,
            "border": null,
            "bottom": null,
            "display": null,
            "flex": null,
            "flex_flow": null,
            "grid_area": null,
            "grid_auto_columns": null,
            "grid_auto_flow": null,
            "grid_auto_rows": null,
            "grid_column": null,
            "grid_gap": null,
            "grid_row": null,
            "grid_template_areas": null,
            "grid_template_columns": null,
            "grid_template_rows": null,
            "height": null,
            "justify_content": null,
            "justify_items": null,
            "left": null,
            "margin": null,
            "max_height": null,
            "max_width": null,
            "min_height": null,
            "min_width": null,
            "object_fit": null,
            "object_position": null,
            "order": null,
            "overflow": null,
            "overflow_x": null,
            "overflow_y": null,
            "padding": null,
            "right": null,
            "top": null,
            "visibility": null,
            "width": null
          }
        },
        "72c2cee7aaec4d4f92355bc03c63e802": {
          "model_module": "@jupyter-widgets/controls",
          "model_module_version": "1.5.0",
          "model_name": "ProgressStyleModel",
          "state": {
            "_model_module": "@jupyter-widgets/controls",
            "_model_module_version": "1.5.0",
            "_model_name": "ProgressStyleModel",
            "_view_count": null,
            "_view_module": "@jupyter-widgets/base",
            "_view_module_version": "1.2.0",
            "_view_name": "StyleView",
            "bar_color": null,
            "description_width": ""
          }
        },
        "72f2534e7103438586cf32a6ce232144": {
          "model_module": "@jupyter-widgets/controls",
          "model_module_version": "1.5.0",
          "model_name": "HBoxModel",
          "state": {
            "_dom_classes": [],
            "_model_module": "@jupyter-widgets/controls",
            "_model_module_version": "1.5.0",
            "_model_name": "HBoxModel",
            "_view_count": null,
            "_view_module": "@jupyter-widgets/controls",
            "_view_module_version": "1.5.0",
            "_view_name": "HBoxView",
            "box_style": "",
            "children": [
              "IPY_MODEL_711b21c3c6884dde93f875bfe3196380",
              "IPY_MODEL_b826472543354e508ea55bf31f66f060",
              "IPY_MODEL_29f178e486d0447192f51e23f91320fc"
            ],
            "layout": "IPY_MODEL_adfbf4ad0e5c414ab3e8eb2d23f48ee4"
          }
        },
        "80bdb0180dc14c9c8e04f2c356197880": {
          "model_module": "@jupyter-widgets/controls",
          "model_module_version": "1.5.0",
          "model_name": "HTMLModel",
          "state": {
            "_dom_classes": [],
            "_model_module": "@jupyter-widgets/controls",
            "_model_module_version": "1.5.0",
            "_model_name": "HTMLModel",
            "_view_count": null,
            "_view_module": "@jupyter-widgets/controls",
            "_view_module_version": "1.5.0",
            "_view_name": "HTMLView",
            "description": "",
            "description_tooltip": null,
            "layout": "IPY_MODEL_1d2b633096de477bb00ba5bf77659b3d",
            "placeholder": "​",
            "style": "IPY_MODEL_d6903f148de142cdab6a407a6e165a3c",
            "value": " 9464832/? [00:00&lt;00:00, 33982435.93it/s]"
          }
        },
        "81a2ceba0bb748688d07f9b213668d26": {
          "model_module": "@jupyter-widgets/controls",
          "model_module_version": "1.5.0",
          "model_name": "HBoxModel",
          "state": {
            "_dom_classes": [],
            "_model_module": "@jupyter-widgets/controls",
            "_model_module_version": "1.5.0",
            "_model_name": "HBoxModel",
            "_view_count": null,
            "_view_module": "@jupyter-widgets/controls",
            "_view_module_version": "1.5.0",
            "_view_name": "HBoxView",
            "box_style": "",
            "children": [
              "IPY_MODEL_bd24a9f3daf84c98a2d12a6bc51a908a",
              "IPY_MODEL_ece74d93cfcf42f692419e5a090068e4",
              "IPY_MODEL_30eee8c3554340f0b3e70bec8bd5966f"
            ],
            "layout": "IPY_MODEL_c811e0334bf44a02a60b26b6936d46e8"
          }
        },
        "81c79223f11740e4b7e51d301ca9eb61": {
          "model_module": "@jupyter-widgets/controls",
          "model_module_version": "1.5.0",
          "model_name": "DescriptionStyleModel",
          "state": {
            "_model_module": "@jupyter-widgets/controls",
            "_model_module_version": "1.5.0",
            "_model_name": "DescriptionStyleModel",
            "_view_count": null,
            "_view_module": "@jupyter-widgets/base",
            "_view_module_version": "1.2.0",
            "_view_name": "StyleView",
            "description_width": ""
          }
        },
        "87df444a96c144c4b5eb94bb779071db": {
          "model_module": "@jupyter-widgets/controls",
          "model_module_version": "1.5.0",
          "model_name": "DescriptionStyleModel",
          "state": {
            "_model_module": "@jupyter-widgets/controls",
            "_model_module_version": "1.5.0",
            "_model_name": "DescriptionStyleModel",
            "_view_count": null,
            "_view_module": "@jupyter-widgets/base",
            "_view_module_version": "1.2.0",
            "_view_name": "StyleView",
            "description_width": ""
          }
        },
        "8987d75766d143e48be0f52392f270c6": {
          "model_module": "@jupyter-widgets/base",
          "model_module_version": "1.2.0",
          "model_name": "LayoutModel",
          "state": {
            "_model_module": "@jupyter-widgets/base",
            "_model_module_version": "1.2.0",
            "_model_name": "LayoutModel",
            "_view_count": null,
            "_view_module": "@jupyter-widgets/base",
            "_view_module_version": "1.2.0",
            "_view_name": "LayoutView",
            "align_content": null,
            "align_items": null,
            "align_self": null,
            "border": null,
            "bottom": null,
            "display": null,
            "flex": null,
            "flex_flow": null,
            "grid_area": null,
            "grid_auto_columns": null,
            "grid_auto_flow": null,
            "grid_auto_rows": null,
            "grid_column": null,
            "grid_gap": null,
            "grid_row": null,
            "grid_template_areas": null,
            "grid_template_columns": null,
            "grid_template_rows": null,
            "height": null,
            "justify_content": null,
            "justify_items": null,
            "left": null,
            "margin": null,
            "max_height": null,
            "max_width": null,
            "min_height": null,
            "min_width": null,
            "object_fit": null,
            "object_position": null,
            "order": null,
            "overflow": null,
            "overflow_x": null,
            "overflow_y": null,
            "padding": null,
            "right": null,
            "top": null,
            "visibility": null,
            "width": null
          }
        },
        "89e58b8c22064909a0e5f5b1215222cf": {
          "model_module": "@jupyter-widgets/base",
          "model_module_version": "1.2.0",
          "model_name": "LayoutModel",
          "state": {
            "_model_module": "@jupyter-widgets/base",
            "_model_module_version": "1.2.0",
            "_model_name": "LayoutModel",
            "_view_count": null,
            "_view_module": "@jupyter-widgets/base",
            "_view_module_version": "1.2.0",
            "_view_name": "LayoutView",
            "align_content": null,
            "align_items": null,
            "align_self": null,
            "border": null,
            "bottom": null,
            "display": null,
            "flex": null,
            "flex_flow": null,
            "grid_area": null,
            "grid_auto_columns": null,
            "grid_auto_flow": null,
            "grid_auto_rows": null,
            "grid_column": null,
            "grid_gap": null,
            "grid_row": null,
            "grid_template_areas": null,
            "grid_template_columns": null,
            "grid_template_rows": null,
            "height": null,
            "justify_content": null,
            "justify_items": null,
            "left": null,
            "margin": null,
            "max_height": null,
            "max_width": null,
            "min_height": null,
            "min_width": null,
            "object_fit": null,
            "object_position": null,
            "order": null,
            "overflow": null,
            "overflow_x": null,
            "overflow_y": null,
            "padding": null,
            "right": null,
            "top": null,
            "visibility": null,
            "width": null
          }
        },
        "8ae3db3950864c59b941d8871e387a18": {
          "model_module": "@jupyter-widgets/base",
          "model_module_version": "1.2.0",
          "model_name": "LayoutModel",
          "state": {
            "_model_module": "@jupyter-widgets/base",
            "_model_module_version": "1.2.0",
            "_model_name": "LayoutModel",
            "_view_count": null,
            "_view_module": "@jupyter-widgets/base",
            "_view_module_version": "1.2.0",
            "_view_name": "LayoutView",
            "align_content": null,
            "align_items": null,
            "align_self": null,
            "border": null,
            "bottom": null,
            "display": null,
            "flex": null,
            "flex_flow": null,
            "grid_area": null,
            "grid_auto_columns": null,
            "grid_auto_flow": null,
            "grid_auto_rows": null,
            "grid_column": null,
            "grid_gap": null,
            "grid_row": null,
            "grid_template_areas": null,
            "grid_template_columns": null,
            "grid_template_rows": null,
            "height": null,
            "justify_content": null,
            "justify_items": null,
            "left": null,
            "margin": null,
            "max_height": null,
            "max_width": null,
            "min_height": null,
            "min_width": null,
            "object_fit": null,
            "object_position": null,
            "order": null,
            "overflow": null,
            "overflow_x": null,
            "overflow_y": null,
            "padding": null,
            "right": null,
            "top": null,
            "visibility": null,
            "width": null
          }
        },
        "9139c219b1904065ab8484d2cdb673b5": {
          "model_module": "@jupyter-widgets/controls",
          "model_module_version": "1.5.0",
          "model_name": "DescriptionStyleModel",
          "state": {
            "_model_module": "@jupyter-widgets/controls",
            "_model_module_version": "1.5.0",
            "_model_name": "DescriptionStyleModel",
            "_view_count": null,
            "_view_module": "@jupyter-widgets/base",
            "_view_module_version": "1.2.0",
            "_view_name": "StyleView",
            "description_width": ""
          }
        },
        "95d8f6dbcc4c4cd59aeca0988d26d1ad": {
          "model_module": "@jupyter-widgets/base",
          "model_module_version": "1.2.0",
          "model_name": "LayoutModel",
          "state": {
            "_model_module": "@jupyter-widgets/base",
            "_model_module_version": "1.2.0",
            "_model_name": "LayoutModel",
            "_view_count": null,
            "_view_module": "@jupyter-widgets/base",
            "_view_module_version": "1.2.0",
            "_view_name": "LayoutView",
            "align_content": null,
            "align_items": null,
            "align_self": null,
            "border": null,
            "bottom": null,
            "display": null,
            "flex": null,
            "flex_flow": null,
            "grid_area": null,
            "grid_auto_columns": null,
            "grid_auto_flow": null,
            "grid_auto_rows": null,
            "grid_column": null,
            "grid_gap": null,
            "grid_row": null,
            "grid_template_areas": null,
            "grid_template_columns": null,
            "grid_template_rows": null,
            "height": null,
            "justify_content": null,
            "justify_items": null,
            "left": null,
            "margin": null,
            "max_height": null,
            "max_width": null,
            "min_height": null,
            "min_width": null,
            "object_fit": null,
            "object_position": null,
            "order": null,
            "overflow": null,
            "overflow_x": null,
            "overflow_y": null,
            "padding": null,
            "right": null,
            "top": null,
            "visibility": null,
            "width": null
          }
        },
        "99200a3a791d4464bb1bdb13c6cb83ad": {
          "model_module": "@jupyter-widgets/controls",
          "model_module_version": "1.5.0",
          "model_name": "HTMLModel",
          "state": {
            "_dom_classes": [],
            "_model_module": "@jupyter-widgets/controls",
            "_model_module_version": "1.5.0",
            "_model_name": "HTMLModel",
            "_view_count": null,
            "_view_module": "@jupyter-widgets/controls",
            "_view_module_version": "1.5.0",
            "_view_name": "HTMLView",
            "description": "",
            "description_tooltip": null,
            "layout": "IPY_MODEL_1251873819de485bb0c0792bdeb52eca",
            "placeholder": "​",
            "style": "IPY_MODEL_019752ffb63b4af19c0dfa18d6d56ff4",
            "value": ""
          }
        },
        "9b9171ae7ff741d3aeec38128d389e28": {
          "model_module": "@jupyter-widgets/controls",
          "model_module_version": "1.5.0",
          "model_name": "FloatProgressModel",
          "state": {
            "_dom_classes": [],
            "_model_module": "@jupyter-widgets/controls",
            "_model_module_version": "1.5.0",
            "_model_name": "FloatProgressModel",
            "_view_count": null,
            "_view_module": "@jupyter-widgets/controls",
            "_view_module_version": "1.5.0",
            "_view_name": "ProgressView",
            "bar_style": "success",
            "description": "",
            "description_tooltip": null,
            "layout": "IPY_MODEL_7217d99c648e418aac16935eaf04a925",
            "max": 6462886,
            "min": 0,
            "orientation": "horizontal",
            "style": "IPY_MODEL_72c2cee7aaec4d4f92355bc03c63e802",
            "value": 6462886
          }
        },
        "9d54adb7ad5242cb809bb45863867e9c": {
          "model_module": "@jupyter-widgets/base",
          "model_module_version": "1.2.0",
          "model_name": "LayoutModel",
          "state": {
            "_model_module": "@jupyter-widgets/base",
            "_model_module_version": "1.2.0",
            "_model_name": "LayoutModel",
            "_view_count": null,
            "_view_module": "@jupyter-widgets/base",
            "_view_module_version": "1.2.0",
            "_view_name": "LayoutView",
            "align_content": null,
            "align_items": null,
            "align_self": null,
            "border": null,
            "bottom": null,
            "display": null,
            "flex": null,
            "flex_flow": null,
            "grid_area": null,
            "grid_auto_columns": null,
            "grid_auto_flow": null,
            "grid_auto_rows": null,
            "grid_column": null,
            "grid_gap": null,
            "grid_row": null,
            "grid_template_areas": null,
            "grid_template_columns": null,
            "grid_template_rows": null,
            "height": null,
            "justify_content": null,
            "justify_items": null,
            "left": null,
            "margin": null,
            "max_height": null,
            "max_width": null,
            "min_height": null,
            "min_width": null,
            "object_fit": null,
            "object_position": null,
            "order": null,
            "overflow": null,
            "overflow_x": null,
            "overflow_y": null,
            "padding": null,
            "right": null,
            "top": null,
            "visibility": null,
            "width": null
          }
        },
        "a098730a7b1d4044b58b9d725284e3ef": {
          "model_module": "@jupyter-widgets/controls",
          "model_module_version": "1.5.0",
          "model_name": "DescriptionStyleModel",
          "state": {
            "_model_module": "@jupyter-widgets/controls",
            "_model_module_version": "1.5.0",
            "_model_name": "DescriptionStyleModel",
            "_view_count": null,
            "_view_module": "@jupyter-widgets/base",
            "_view_module_version": "1.2.0",
            "_view_name": "StyleView",
            "description_width": ""
          }
        },
        "a5cd05afad8a4426bd1dc8c83cefdfba": {
          "model_module": "@jupyter-widgets/base",
          "model_module_version": "1.2.0",
          "model_name": "LayoutModel",
          "state": {
            "_model_module": "@jupyter-widgets/base",
            "_model_module_version": "1.2.0",
            "_model_name": "LayoutModel",
            "_view_count": null,
            "_view_module": "@jupyter-widgets/base",
            "_view_module_version": "1.2.0",
            "_view_name": "LayoutView",
            "align_content": null,
            "align_items": null,
            "align_self": null,
            "border": null,
            "bottom": null,
            "display": null,
            "flex": null,
            "flex_flow": null,
            "grid_area": null,
            "grid_auto_columns": null,
            "grid_auto_flow": null,
            "grid_auto_rows": null,
            "grid_column": null,
            "grid_gap": null,
            "grid_row": null,
            "grid_template_areas": null,
            "grid_template_columns": null,
            "grid_template_rows": null,
            "height": null,
            "justify_content": null,
            "justify_items": null,
            "left": null,
            "margin": null,
            "max_height": null,
            "max_width": null,
            "min_height": null,
            "min_width": null,
            "object_fit": null,
            "object_position": null,
            "order": null,
            "overflow": null,
            "overflow_x": null,
            "overflow_y": null,
            "padding": null,
            "right": null,
            "top": null,
            "visibility": null,
            "width": null
          }
        },
        "ac04a1affa4a4beba561eb44d25e2802": {
          "model_module": "@jupyter-widgets/base",
          "model_module_version": "1.2.0",
          "model_name": "LayoutModel",
          "state": {
            "_model_module": "@jupyter-widgets/base",
            "_model_module_version": "1.2.0",
            "_model_name": "LayoutModel",
            "_view_count": null,
            "_view_module": "@jupyter-widgets/base",
            "_view_module_version": "1.2.0",
            "_view_name": "LayoutView",
            "align_content": null,
            "align_items": null,
            "align_self": null,
            "border": null,
            "bottom": null,
            "display": null,
            "flex": null,
            "flex_flow": null,
            "grid_area": null,
            "grid_auto_columns": null,
            "grid_auto_flow": null,
            "grid_auto_rows": null,
            "grid_column": null,
            "grid_gap": null,
            "grid_row": null,
            "grid_template_areas": null,
            "grid_template_columns": null,
            "grid_template_rows": null,
            "height": null,
            "justify_content": null,
            "justify_items": null,
            "left": null,
            "margin": null,
            "max_height": null,
            "max_width": null,
            "min_height": null,
            "min_width": null,
            "object_fit": null,
            "object_position": null,
            "order": null,
            "overflow": null,
            "overflow_x": null,
            "overflow_y": null,
            "padding": null,
            "right": null,
            "top": null,
            "visibility": null,
            "width": null
          }
        },
        "adfbf4ad0e5c414ab3e8eb2d23f48ee4": {
          "model_module": "@jupyter-widgets/base",
          "model_module_version": "1.2.0",
          "model_name": "LayoutModel",
          "state": {
            "_model_module": "@jupyter-widgets/base",
            "_model_module_version": "1.2.0",
            "_model_name": "LayoutModel",
            "_view_count": null,
            "_view_module": "@jupyter-widgets/base",
            "_view_module_version": "1.2.0",
            "_view_name": "LayoutView",
            "align_content": null,
            "align_items": null,
            "align_self": null,
            "border": null,
            "bottom": null,
            "display": null,
            "flex": null,
            "flex_flow": null,
            "grid_area": null,
            "grid_auto_columns": null,
            "grid_auto_flow": null,
            "grid_auto_rows": null,
            "grid_column": null,
            "grid_gap": null,
            "grid_row": null,
            "grid_template_areas": null,
            "grid_template_columns": null,
            "grid_template_rows": null,
            "height": null,
            "justify_content": null,
            "justify_items": null,
            "left": null,
            "margin": null,
            "max_height": null,
            "max_width": null,
            "min_height": null,
            "min_width": null,
            "object_fit": null,
            "object_position": null,
            "order": null,
            "overflow": null,
            "overflow_x": null,
            "overflow_y": null,
            "padding": null,
            "right": null,
            "top": null,
            "visibility": null,
            "width": null
          }
        },
        "ae3a880b885c4b99a05b2c2a3ec3c7f4": {
          "model_module": "@jupyter-widgets/base",
          "model_module_version": "1.2.0",
          "model_name": "LayoutModel",
          "state": {
            "_model_module": "@jupyter-widgets/base",
            "_model_module_version": "1.2.0",
            "_model_name": "LayoutModel",
            "_view_count": null,
            "_view_module": "@jupyter-widgets/base",
            "_view_module_version": "1.2.0",
            "_view_name": "LayoutView",
            "align_content": null,
            "align_items": null,
            "align_self": null,
            "border": null,
            "bottom": null,
            "display": null,
            "flex": null,
            "flex_flow": null,
            "grid_area": null,
            "grid_auto_columns": null,
            "grid_auto_flow": null,
            "grid_auto_rows": null,
            "grid_column": null,
            "grid_gap": null,
            "grid_row": null,
            "grid_template_areas": null,
            "grid_template_columns": null,
            "grid_template_rows": null,
            "height": null,
            "justify_content": null,
            "justify_items": null,
            "left": null,
            "margin": null,
            "max_height": null,
            "max_width": null,
            "min_height": null,
            "min_width": null,
            "object_fit": null,
            "object_position": null,
            "order": null,
            "overflow": null,
            "overflow_x": null,
            "overflow_y": null,
            "padding": null,
            "right": null,
            "top": null,
            "visibility": null,
            "width": null
          }
        },
        "b17f7bfa530045c99bdcd7f7b7de2787": {
          "model_module": "@jupyter-widgets/controls",
          "model_module_version": "1.5.0",
          "model_name": "ProgressStyleModel",
          "state": {
            "_model_module": "@jupyter-widgets/controls",
            "_model_module_version": "1.5.0",
            "_model_name": "ProgressStyleModel",
            "_view_count": null,
            "_view_module": "@jupyter-widgets/base",
            "_view_module_version": "1.2.0",
            "_view_name": "StyleView",
            "bar_color": null,
            "description_width": ""
          }
        },
        "b24afc3e94ad4ebe90e22f3d796f0d0e": {
          "model_module": "@jupyter-widgets/base",
          "model_module_version": "1.2.0",
          "model_name": "LayoutModel",
          "state": {
            "_model_module": "@jupyter-widgets/base",
            "_model_module_version": "1.2.0",
            "_model_name": "LayoutModel",
            "_view_count": null,
            "_view_module": "@jupyter-widgets/base",
            "_view_module_version": "1.2.0",
            "_view_name": "LayoutView",
            "align_content": null,
            "align_items": null,
            "align_self": null,
            "border": null,
            "bottom": null,
            "display": null,
            "flex": null,
            "flex_flow": null,
            "grid_area": null,
            "grid_auto_columns": null,
            "grid_auto_flow": null,
            "grid_auto_rows": null,
            "grid_column": null,
            "grid_gap": null,
            "grid_row": null,
            "grid_template_areas": null,
            "grid_template_columns": null,
            "grid_template_rows": null,
            "height": null,
            "justify_content": null,
            "justify_items": null,
            "left": null,
            "margin": null,
            "max_height": null,
            "max_width": null,
            "min_height": null,
            "min_width": null,
            "object_fit": null,
            "object_position": null,
            "order": null,
            "overflow": null,
            "overflow_x": null,
            "overflow_y": null,
            "padding": null,
            "right": null,
            "top": null,
            "visibility": null,
            "width": null
          }
        },
        "b53397d96de94847996ecc5da1adf1dc": {
          "model_module": "@jupyter-widgets/controls",
          "model_module_version": "1.5.0",
          "model_name": "HTMLModel",
          "state": {
            "_dom_classes": [],
            "_model_module": "@jupyter-widgets/controls",
            "_model_module_version": "1.5.0",
            "_model_name": "HTMLModel",
            "_view_count": null,
            "_view_module": "@jupyter-widgets/controls",
            "_view_module_version": "1.5.0",
            "_view_name": "HTMLView",
            "description": "",
            "description_tooltip": null,
            "layout": "IPY_MODEL_8987d75766d143e48be0f52392f270c6",
            "placeholder": "​",
            "style": "IPY_MODEL_121b3c70be0444e087e6797e2a6c834e",
            "value": " 44.7M/44.7M [00:00&lt;00:00, 82.9MB/s]"
          }
        },
        "b826472543354e508ea55bf31f66f060": {
          "model_module": "@jupyter-widgets/controls",
          "model_module_version": "1.5.0",
          "model_name": "FloatProgressModel",
          "state": {
            "_dom_classes": [],
            "_model_module": "@jupyter-widgets/controls",
            "_model_module_version": "1.5.0",
            "_model_name": "FloatProgressModel",
            "_view_count": null,
            "_view_module": "@jupyter-widgets/controls",
            "_view_module_version": "1.5.0",
            "_view_name": "ProgressView",
            "bar_style": "success",
            "description": "",
            "description_tooltip": null,
            "layout": "IPY_MODEL_ae3a880b885c4b99a05b2c2a3ec3c7f4",
            "max": 28881,
            "min": 0,
            "orientation": "horizontal",
            "style": "IPY_MODEL_ba56dbdb70f941ee8215a68e6a83d2a9",
            "value": 28881
          }
        },
        "b9ae42c851504a5987b528b44aac6533": {
          "model_module": "@jupyter-widgets/base",
          "model_module_version": "1.2.0",
          "model_name": "LayoutModel",
          "state": {
            "_model_module": "@jupyter-widgets/base",
            "_model_module_version": "1.2.0",
            "_model_name": "LayoutModel",
            "_view_count": null,
            "_view_module": "@jupyter-widgets/base",
            "_view_module_version": "1.2.0",
            "_view_name": "LayoutView",
            "align_content": null,
            "align_items": null,
            "align_self": null,
            "border": null,
            "bottom": null,
            "display": null,
            "flex": null,
            "flex_flow": null,
            "grid_area": null,
            "grid_auto_columns": null,
            "grid_auto_flow": null,
            "grid_auto_rows": null,
            "grid_column": null,
            "grid_gap": null,
            "grid_row": null,
            "grid_template_areas": null,
            "grid_template_columns": null,
            "grid_template_rows": null,
            "height": null,
            "justify_content": null,
            "justify_items": null,
            "left": null,
            "margin": null,
            "max_height": null,
            "max_width": null,
            "min_height": null,
            "min_width": null,
            "object_fit": null,
            "object_position": null,
            "order": null,
            "overflow": null,
            "overflow_x": null,
            "overflow_y": null,
            "padding": null,
            "right": null,
            "top": null,
            "visibility": null,
            "width": null
          }
        },
        "ba56dbdb70f941ee8215a68e6a83d2a9": {
          "model_module": "@jupyter-widgets/controls",
          "model_module_version": "1.5.0",
          "model_name": "ProgressStyleModel",
          "state": {
            "_model_module": "@jupyter-widgets/controls",
            "_model_module_version": "1.5.0",
            "_model_name": "ProgressStyleModel",
            "_view_count": null,
            "_view_module": "@jupyter-widgets/base",
            "_view_module_version": "1.2.0",
            "_view_name": "StyleView",
            "bar_color": null,
            "description_width": ""
          }
        },
        "ba95facb8f4a45748c3d284cb2503e9f": {
          "model_module": "@jupyter-widgets/controls",
          "model_module_version": "1.5.0",
          "model_name": "HTMLModel",
          "state": {
            "_dom_classes": [],
            "_model_module": "@jupyter-widgets/controls",
            "_model_module_version": "1.5.0",
            "_model_name": "HTMLModel",
            "_view_count": null,
            "_view_module": "@jupyter-widgets/controls",
            "_view_module_version": "1.5.0",
            "_view_name": "HTMLView",
            "description": "",
            "description_tooltip": null,
            "layout": "IPY_MODEL_c00e93ad727747d0a6114d5f06b0986c",
            "placeholder": "​",
            "style": "IPY_MODEL_9139c219b1904065ab8484d2cdb673b5",
            "value": ""
          }
        },
        "bba0fa43e6e546f8b83b05be21d933d8": {
          "model_module": "@jupyter-widgets/base",
          "model_module_version": "1.2.0",
          "model_name": "LayoutModel",
          "state": {
            "_model_module": "@jupyter-widgets/base",
            "_model_module_version": "1.2.0",
            "_model_name": "LayoutModel",
            "_view_count": null,
            "_view_module": "@jupyter-widgets/base",
            "_view_module_version": "1.2.0",
            "_view_name": "LayoutView",
            "align_content": null,
            "align_items": null,
            "align_self": null,
            "border": null,
            "bottom": null,
            "display": null,
            "flex": null,
            "flex_flow": null,
            "grid_area": null,
            "grid_auto_columns": null,
            "grid_auto_flow": null,
            "grid_auto_rows": null,
            "grid_column": null,
            "grid_gap": null,
            "grid_row": null,
            "grid_template_areas": null,
            "grid_template_columns": null,
            "grid_template_rows": null,
            "height": null,
            "justify_content": null,
            "justify_items": null,
            "left": null,
            "margin": null,
            "max_height": null,
            "max_width": null,
            "min_height": null,
            "min_width": null,
            "object_fit": null,
            "object_position": null,
            "order": null,
            "overflow": null,
            "overflow_x": null,
            "overflow_y": null,
            "padding": null,
            "right": null,
            "top": null,
            "visibility": null,
            "width": null
          }
        },
        "bd24a9f3daf84c98a2d12a6bc51a908a": {
          "model_module": "@jupyter-widgets/controls",
          "model_module_version": "1.5.0",
          "model_name": "HTMLModel",
          "state": {
            "_dom_classes": [],
            "_model_module": "@jupyter-widgets/controls",
            "_model_module_version": "1.5.0",
            "_model_name": "HTMLModel",
            "_view_count": null,
            "_view_module": "@jupyter-widgets/controls",
            "_view_module_version": "1.5.0",
            "_view_name": "HTMLView",
            "description": "",
            "description_tooltip": null,
            "layout": "IPY_MODEL_b24afc3e94ad4ebe90e22f3d796f0d0e",
            "placeholder": "​",
            "style": "IPY_MODEL_a098730a7b1d4044b58b9d725284e3ef",
            "value": ""
          }
        },
        "c00e93ad727747d0a6114d5f06b0986c": {
          "model_module": "@jupyter-widgets/base",
          "model_module_version": "1.2.0",
          "model_name": "LayoutModel",
          "state": {
            "_model_module": "@jupyter-widgets/base",
            "_model_module_version": "1.2.0",
            "_model_name": "LayoutModel",
            "_view_count": null,
            "_view_module": "@jupyter-widgets/base",
            "_view_module_version": "1.2.0",
            "_view_name": "LayoutView",
            "align_content": null,
            "align_items": null,
            "align_self": null,
            "border": null,
            "bottom": null,
            "display": null,
            "flex": null,
            "flex_flow": null,
            "grid_area": null,
            "grid_auto_columns": null,
            "grid_auto_flow": null,
            "grid_auto_rows": null,
            "grid_column": null,
            "grid_gap": null,
            "grid_row": null,
            "grid_template_areas": null,
            "grid_template_columns": null,
            "grid_template_rows": null,
            "height": null,
            "justify_content": null,
            "justify_items": null,
            "left": null,
            "margin": null,
            "max_height": null,
            "max_width": null,
            "min_height": null,
            "min_width": null,
            "object_fit": null,
            "object_position": null,
            "order": null,
            "overflow": null,
            "overflow_x": null,
            "overflow_y": null,
            "padding": null,
            "right": null,
            "top": null,
            "visibility": null,
            "width": null
          }
        },
        "c52588f9ed794fe2acde0a295be773b1": {
          "model_module": "@jupyter-widgets/controls",
          "model_module_version": "1.5.0",
          "model_name": "DescriptionStyleModel",
          "state": {
            "_model_module": "@jupyter-widgets/controls",
            "_model_module_version": "1.5.0",
            "_model_name": "DescriptionStyleModel",
            "_view_count": null,
            "_view_module": "@jupyter-widgets/base",
            "_view_module_version": "1.2.0",
            "_view_name": "StyleView",
            "description_width": ""
          }
        },
        "c811e0334bf44a02a60b26b6936d46e8": {
          "model_module": "@jupyter-widgets/base",
          "model_module_version": "1.2.0",
          "model_name": "LayoutModel",
          "state": {
            "_model_module": "@jupyter-widgets/base",
            "_model_module_version": "1.2.0",
            "_model_name": "LayoutModel",
            "_view_count": null,
            "_view_module": "@jupyter-widgets/base",
            "_view_module_version": "1.2.0",
            "_view_name": "LayoutView",
            "align_content": null,
            "align_items": null,
            "align_self": null,
            "border": null,
            "bottom": null,
            "display": null,
            "flex": null,
            "flex_flow": null,
            "grid_area": null,
            "grid_auto_columns": null,
            "grid_auto_flow": null,
            "grid_auto_rows": null,
            "grid_column": null,
            "grid_gap": null,
            "grid_row": null,
            "grid_template_areas": null,
            "grid_template_columns": null,
            "grid_template_rows": null,
            "height": null,
            "justify_content": null,
            "justify_items": null,
            "left": null,
            "margin": null,
            "max_height": null,
            "max_width": null,
            "min_height": null,
            "min_width": null,
            "object_fit": null,
            "object_position": null,
            "order": null,
            "overflow": null,
            "overflow_x": null,
            "overflow_y": null,
            "padding": null,
            "right": null,
            "top": null,
            "visibility": null,
            "width": null
          }
        },
        "c8af16148619480d9b6f5c9386453d4f": {
          "model_module": "@jupyter-widgets/controls",
          "model_module_version": "1.5.0",
          "model_name": "DescriptionStyleModel",
          "state": {
            "_model_module": "@jupyter-widgets/controls",
            "_model_module_version": "1.5.0",
            "_model_name": "DescriptionStyleModel",
            "_view_count": null,
            "_view_module": "@jupyter-widgets/base",
            "_view_module_version": "1.2.0",
            "_view_name": "StyleView",
            "description_width": ""
          }
        },
        "d4bddd71ba104f9e9fdecd614bff6d32": {
          "model_module": "@jupyter-widgets/controls",
          "model_module_version": "1.5.0",
          "model_name": "ProgressStyleModel",
          "state": {
            "_model_module": "@jupyter-widgets/controls",
            "_model_module_version": "1.5.0",
            "_model_name": "ProgressStyleModel",
            "_view_count": null,
            "_view_module": "@jupyter-widgets/base",
            "_view_module_version": "1.2.0",
            "_view_name": "StyleView",
            "bar_color": null,
            "description_width": ""
          }
        },
        "d6903f148de142cdab6a407a6e165a3c": {
          "model_module": "@jupyter-widgets/controls",
          "model_module_version": "1.5.0",
          "model_name": "DescriptionStyleModel",
          "state": {
            "_model_module": "@jupyter-widgets/controls",
            "_model_module_version": "1.5.0",
            "_model_name": "DescriptionStyleModel",
            "_view_count": null,
            "_view_module": "@jupyter-widgets/base",
            "_view_module_version": "1.2.0",
            "_view_name": "StyleView",
            "description_width": ""
          }
        },
        "dc3f7d1e3bad4d9b97b05b1ed46f9722": {
          "model_module": "@jupyter-widgets/base",
          "model_module_version": "1.2.0",
          "model_name": "LayoutModel",
          "state": {
            "_model_module": "@jupyter-widgets/base",
            "_model_module_version": "1.2.0",
            "_model_name": "LayoutModel",
            "_view_count": null,
            "_view_module": "@jupyter-widgets/base",
            "_view_module_version": "1.2.0",
            "_view_name": "LayoutView",
            "align_content": null,
            "align_items": null,
            "align_self": null,
            "border": null,
            "bottom": null,
            "display": null,
            "flex": null,
            "flex_flow": null,
            "grid_area": null,
            "grid_auto_columns": null,
            "grid_auto_flow": null,
            "grid_auto_rows": null,
            "grid_column": null,
            "grid_gap": null,
            "grid_row": null,
            "grid_template_areas": null,
            "grid_template_columns": null,
            "grid_template_rows": null,
            "height": null,
            "justify_content": null,
            "justify_items": null,
            "left": null,
            "margin": null,
            "max_height": null,
            "max_width": null,
            "min_height": null,
            "min_width": null,
            "object_fit": null,
            "object_position": null,
            "order": null,
            "overflow": null,
            "overflow_x": null,
            "overflow_y": null,
            "padding": null,
            "right": null,
            "top": null,
            "visibility": null,
            "width": null
          }
        },
        "dde973aaf96249fe84461ae285736a1b": {
          "model_module": "@jupyter-widgets/controls",
          "model_module_version": "1.5.0",
          "model_name": "HTMLModel",
          "state": {
            "_dom_classes": [],
            "_model_module": "@jupyter-widgets/controls",
            "_model_module_version": "1.5.0",
            "_model_name": "HTMLModel",
            "_view_count": null,
            "_view_module": "@jupyter-widgets/controls",
            "_view_module_version": "1.5.0",
            "_view_name": "HTMLView",
            "description": "",
            "description_tooltip": null,
            "layout": "IPY_MODEL_38f52f92a34e470ab6f7e79ad0309ffb",
            "placeholder": "​",
            "style": "IPY_MODEL_87df444a96c144c4b5eb94bb779071db",
            "value": "100%"
          }
        },
        "e1c1e5866f1444be84c5c4d60116c37a": {
          "model_module": "@jupyter-widgets/controls",
          "model_module_version": "1.5.0",
          "model_name": "HTMLModel",
          "state": {
            "_dom_classes": [],
            "_model_module": "@jupyter-widgets/controls",
            "_model_module_version": "1.5.0",
            "_model_name": "HTMLModel",
            "_view_count": null,
            "_view_module": "@jupyter-widgets/controls",
            "_view_module_version": "1.5.0",
            "_view_name": "HTMLView",
            "description": "",
            "description_tooltip": null,
            "layout": "IPY_MODEL_95d8f6dbcc4c4cd59aeca0988d26d1ad",
            "placeholder": "​",
            "style": "IPY_MODEL_33fd1e92209141c79c06a4f531efff2a",
            "value": ""
          }
        },
        "ece74d93cfcf42f692419e5a090068e4": {
          "model_module": "@jupyter-widgets/controls",
          "model_module_version": "1.5.0",
          "model_name": "FloatProgressModel",
          "state": {
            "_dom_classes": [],
            "_model_module": "@jupyter-widgets/controls",
            "_model_module_version": "1.5.0",
            "_model_name": "FloatProgressModel",
            "_view_count": null,
            "_view_module": "@jupyter-widgets/controls",
            "_view_module_version": "1.5.0",
            "_view_name": "ProgressView",
            "bar_style": "success",
            "description": "",
            "description_tooltip": null,
            "layout": "IPY_MODEL_03a00e9bd6d54996b53c92b27d5b1b98",
            "max": 1648877,
            "min": 0,
            "orientation": "horizontal",
            "style": "IPY_MODEL_b17f7bfa530045c99bdcd7f7b7de2787",
            "value": 1648877
          }
        },
        "f2fe3e1ab1e8419583026746189fd718": {
          "model_module": "@jupyter-widgets/base",
          "model_module_version": "1.2.0",
          "model_name": "LayoutModel",
          "state": {
            "_model_module": "@jupyter-widgets/base",
            "_model_module_version": "1.2.0",
            "_model_name": "LayoutModel",
            "_view_count": null,
            "_view_module": "@jupyter-widgets/base",
            "_view_module_version": "1.2.0",
            "_view_name": "LayoutView",
            "align_content": null,
            "align_items": null,
            "align_self": null,
            "border": null,
            "bottom": null,
            "display": null,
            "flex": null,
            "flex_flow": null,
            "grid_area": null,
            "grid_auto_columns": null,
            "grid_auto_flow": null,
            "grid_auto_rows": null,
            "grid_column": null,
            "grid_gap": null,
            "grid_row": null,
            "grid_template_areas": null,
            "grid_template_columns": null,
            "grid_template_rows": null,
            "height": null,
            "justify_content": null,
            "justify_items": null,
            "left": null,
            "margin": null,
            "max_height": null,
            "max_width": null,
            "min_height": null,
            "min_width": null,
            "object_fit": null,
            "object_position": null,
            "order": null,
            "overflow": null,
            "overflow_x": null,
            "overflow_y": null,
            "padding": null,
            "right": null,
            "top": null,
            "visibility": null,
            "width": null
          }
        },
        "fb0a0f75db6d41ad8c28bb59c68305a3": {
          "model_module": "@jupyter-widgets/base",
          "model_module_version": "1.2.0",
          "model_name": "LayoutModel",
          "state": {
            "_model_module": "@jupyter-widgets/base",
            "_model_module_version": "1.2.0",
            "_model_name": "LayoutModel",
            "_view_count": null,
            "_view_module": "@jupyter-widgets/base",
            "_view_module_version": "1.2.0",
            "_view_name": "LayoutView",
            "align_content": null,
            "align_items": null,
            "align_self": null,
            "border": null,
            "bottom": null,
            "display": null,
            "flex": null,
            "flex_flow": null,
            "grid_area": null,
            "grid_auto_columns": null,
            "grid_auto_flow": null,
            "grid_auto_rows": null,
            "grid_column": null,
            "grid_gap": null,
            "grid_row": null,
            "grid_template_areas": null,
            "grid_template_columns": null,
            "grid_template_rows": null,
            "height": null,
            "justify_content": null,
            "justify_items": null,
            "left": null,
            "margin": null,
            "max_height": null,
            "max_width": null,
            "min_height": null,
            "min_width": null,
            "object_fit": null,
            "object_position": null,
            "order": null,
            "overflow": null,
            "overflow_x": null,
            "overflow_y": null,
            "padding": null,
            "right": null,
            "top": null,
            "visibility": null,
            "width": null
          }
        }
      }
    }
  },
  "nbformat": 4,
  "nbformat_minor": 0
}
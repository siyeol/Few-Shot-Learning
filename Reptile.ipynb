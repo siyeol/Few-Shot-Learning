{
  "nbformat": 4,
  "nbformat_minor": 0,
  "metadata": {
    "colab": {
      "name": "Adi_Reptile_Experiments",
      "provenance": [],
      "collapsed_sections": [
        "E9pJovQlOcie"
      ],
      "include_colab_link": true
    },
    "kernelspec": {
      "name": "python3",
      "display_name": "Python 3"
    },
    "language_info": {
      "name": "python"
    }
  },
  "cells": [
    {
      "cell_type": "markdown",
      "metadata": {
        "id": "view-in-github",
        "colab_type": "text"
      },
      "source": [
        "<a href=\"https://colab.research.google.com/github/siyeol/Few-Shot-Learning/blob/main/Reptile.ipynb\" target=\"_parent\"><img src=\"https://colab.research.google.com/assets/colab-badge.svg\" alt=\"Open In Colab\"/></a>"
      ]
    },
    {
      "cell_type": "markdown",
      "source": [
        "### Resources Used Below (for code)\n",
        "\n",
        "--  https://www.askpython.com/python/examples/load-and-plot-mnist-dataset-in-python\n",
        "\n",
        "-- https://www.tensorflow.org/api_docs/python/tf/keras/datasets/mnist/load_data"
      ],
      "metadata": {
        "id": "bWFn8g3o2jnQ"
      }
    },
    {
      "cell_type": "code",
      "execution_count": null,
      "metadata": {
        "id": "beOoT4W_18xK"
      },
      "outputs": [],
      "source": [
        "import keras\n",
        "from keras.datasets import mnist\n",
        "\n",
        "## Load Data and Assertions from https://www.tensorflow.org/api_docs/python/tf/keras/datasets/mnist/load_data\n",
        "(x_train, y_train), (x_test, y_test) = keras.datasets.mnist.load_data()\n",
        "assert x_train.shape == (60000, 28, 28)\n",
        "assert x_test.shape == (10000, 28, 28)\n",
        "assert y_train.shape == (60000,)\n",
        "assert y_test.shape == (10000,)"
      ]
    },
    {
      "cell_type": "code",
      "source": [
        "import matplotlib.pyplot as plt\n",
        "\n",
        "plt.imshow(x_train[0])\n",
        "plt.show()"
      ],
      "metadata": {
        "colab": {
          "base_uri": "https://localhost:8080/",
          "height": 265
        },
        "id": "_IHmiqPs29kr",
        "outputId": "e0a2befb-f53c-4b78-bf00-293f9608fe27"
      },
      "execution_count": null,
      "outputs": [
        {
          "output_type": "display_data",
          "data": {
            "text/plain": [
              "<Figure size 432x288 with 1 Axes>"
            ],
            "image/png": "[encoded data removed]"
          },
          "metadata": {
            "needs_background": "light"
          }
        }
      ]
    },
    {
      "cell_type": "markdown",
      "source": [
        "# Next, we will use code from the Reptile Google Colab notebook\n",
        "\n",
        "-- https://colab.research.google.com/github/keras-team/keras-io/blob/master/examples/vision/ipynb/reptile.ipynb#scrollTo=qFE4oLzO32G5\n",
        "\n",
        "-- Reptile Paper: https://arxiv.org/pdf/1803.02999.pdf"
      ],
      "metadata": {
        "id": "qoR53sqB37Ai"
      }
    },
    {
      "cell_type": "markdown",
      "metadata": {
        "id": "qFE4oLzO32G5"
      },
      "source": [
        "# Few-Shot learning with Reptile\n",
        "\n",
        "**Author:** [ADMoreau](https://github.com/ADMoreau)<br>\n",
        "**Date created:** 2020/05/21<br>\n",
        "**Last modified:** 2020/05/30<br>\n",
        "**Description:** Few-shot classification of the Omniglot dataset using Reptile."
      ]
    },
    {
      "cell_type": "markdown",
      "metadata": {
        "id": "8sYmlalP32G-"
      },
      "source": [
        "## Introduction\n",
        "\n",
        "The [Reptile](https://arxiv.org/abs/1803.02999) algorithm was developed by OpenAI to\n",
        "perform model agnostic meta-learning. Specifically, this algorithm was designed to\n",
        "quickly learn to perform new tasks with minimal training (few-shot learning).\n",
        "The algorithm works by performing Stochastic Gradient Descent using the\n",
        "difference between weights trained on a mini-batch of never before seen data and the\n",
        "model weights prior to training over a fixed number of meta-iterations.\n"
      ]
    },
    {
      "cell_type": "code",
      "execution_count": null,
      "metadata": {
        "id": "ipKfrWQK32HA"
      },
      "outputs": [],
      "source": [
        "import matplotlib.pyplot as plt\n",
        "import numpy as np\n",
        "import random\n",
        "import tensorflow as tf\n",
        "from tensorflow import keras\n",
        "from tensorflow.keras import layers\n",
        "import tensorflow_datasets as tfds"
      ]
    },
    {
      "cell_type": "markdown",
      "metadata": {
        "id": "7RWOMgB232HE"
      },
      "source": [
        "## Define the Hyperparameters\n"
      ]
    },
    {
      "cell_type": "code",
      "execution_count": null,
      "metadata": {
        "id": "ILbqtgBA32HG"
      },
      "outputs": [],
      "source": [
        "learning_rate = 0.003\n",
        "meta_step_size = 0.25\n",
        "\n",
        "inner_batch_size = 25\n",
        "eval_batch_size = 25\n",
        "\n",
        "#meta iters should be 2000, previously 500\n",
        "meta_iters = 2000\n",
        "eval_iters = 5\n",
        "inner_iters = 4\n",
        "\n",
        "eval_interval = 1\n",
        "train_shots = 20\n",
        "shots = 5\n",
        "classes = 5\n"
      ]
    },
    {
      "cell_type": "markdown",
      "metadata": {
        "id": "uhWK_jir32HH"
      },
      "source": [
        "## Prepare the data\n",
        "\n",
        "The [Omniglot dataset](https://github.com/brendenlake/omniglot/) is a dataset of 1,623\n",
        "characters taken from 50 different alphabets, with 20 examples for each character.\n",
        "The 20 samples for each character were drawn online via Amazon's Mechanical Turk. For the\n",
        "few-shot learning task, `k` samples (or \"shots\") are drawn randomly from `n` randomly-chosen\n",
        "classes. These `n` numerical values are used to create a new set of temporary labels to use\n",
        "to test the model's ability to learn a new task given few examples. In other words, if you\n",
        "are training on 5 classes, your new class labels will be either 0, 1, 2, 3, or 4.\n",
        "Omniglot is a great dataset for this task since there are many different classes to draw\n",
        "from, with a reasonable number of samples for each class.\n"
      ]
    },
    {
      "cell_type": "code",
      "execution_count": null,
      "metadata": {
        "id": "usxKDgWG32HI",
        "colab": {
          "base_uri": "https://localhost:8080/"
        },
        "outputId": "176328db-2a42-438c-a9aa-7c2a4ae7bb8d"
      },
      "outputs": [
        {
          "output_type": "stream",
          "name": "stdout",
          "text": [
            "(105, 105, 3)\n",
            "(28, 28, 1)\n"
          ]
        }
      ],
      "source": [
        "class Dataset:\n",
        "    # This class will facilitate the creation of a few-shot dataset\n",
        "    # from the Omniglot dataset that can be sampled from quickly while also\n",
        "    # allowing to create new labels at the same time.\n",
        "    def __init__(self, training):\n",
        "        # Download the tfrecord files containing the omniglot data and convert to a\n",
        "        # dataset.\n",
        "        split = \"train\" if training else \"test\"\n",
        "        if split == \"test\":\n",
        "          ds = tfds.load(\"mnist\", split=split, as_supervised=True, shuffle_files=False)\n",
        "        if split == \"train\":\n",
        "          ds = tfds.load(\"omniglot\", split=split, as_supervised=True, shuffle_files=False)\n",
        "        # Iterate over the dataset to get each individual image and its class,\n",
        "        # and put that data into a dictionary.\n",
        "        self.saved_split = split\n",
        "        self.data = {}\n",
        "\n",
        "        def extraction(image, label):\n",
        "            # This function will shrink the Omniglot images to the desired size,\n",
        "            # scale pixel values and convert the RGB image to grayscale\n",
        "            print(image.shape)            \n",
        "            image = tf.image.convert_image_dtype(image, tf.float32)\n",
        "\n",
        "            if self.saved_split == \"train\":\n",
        "              image = tf.image.rgb_to_grayscale(image)\n",
        "            image = tf.image.resize(image, [28, 28])\n",
        "            return image, label\n",
        "\n",
        "        for image, label in ds.map(extraction):\n",
        "            image = image.numpy()\n",
        "            label = str(label.numpy())\n",
        "            if label not in self.data:\n",
        "                self.data[label] = []\n",
        "            self.data[label].append(image)\n",
        "        self.labels = list(self.data.keys())\n",
        "\n",
        "    def get_mini_dataset(\n",
        "        self, batch_size, repetitions, shots, num_classes, split=False\n",
        "    ):\n",
        "        temp_labels = np.zeros(shape=(num_classes * shots))\n",
        "        temp_images = np.zeros(shape=(num_classes * shots, 28, 28, 1))\n",
        "        if split:\n",
        "            test_labels = np.zeros(shape=(num_classes))\n",
        "            test_images = np.zeros(shape=(num_classes, 28, 28, 1))\n",
        "\n",
        "        # Get a random subset of labels from the entire label set.\n",
        "        label_subset = random.choices(self.labels, k=num_classes)\n",
        "        for class_idx, class_obj in enumerate(label_subset):\n",
        "            # Use enumerated index value as a temporary label for mini-batch in\n",
        "            # few shot learning.\n",
        "            temp_labels[class_idx * shots : (class_idx + 1) * shots] = class_idx\n",
        "            # If creating a split dataset for testing, select an extra sample from each\n",
        "            # label to create the test dataset.\n",
        "            if split:\n",
        "                test_labels[class_idx] = class_idx\n",
        "                images_to_split = random.choices(\n",
        "                    self.data[label_subset[class_idx]], k=shots + 1\n",
        "                )\n",
        "                test_images[class_idx] = images_to_split[-1]\n",
        "                temp_images[\n",
        "                    class_idx * shots : (class_idx + 1) * shots\n",
        "                ] = images_to_split[:-1]\n",
        "            else:\n",
        "                # For each index in the randomly selected label_subset, sample the\n",
        "                # necessary number of images.\n",
        "                temp_images[\n",
        "                    class_idx * shots : (class_idx + 1) * shots\n",
        "                ] = random.choices(self.data[label_subset[class_idx]], k=shots)\n",
        "\n",
        "        dataset = tf.data.Dataset.from_tensor_slices(\n",
        "            (temp_images.astype(np.float32), temp_labels.astype(np.int32))\n",
        "        )\n",
        "        dataset = dataset.shuffle(100).batch(batch_size).repeat(repetitions)\n",
        "        if split:\n",
        "            return dataset, test_images, test_labels\n",
        "        return dataset\n",
        "\n",
        "\n",
        "import urllib3\n",
        "\n",
        "urllib3.disable_warnings()  # Disable SSL warnings that may happen during download.\n",
        "train_dataset = Dataset(training=True)\n",
        "test_dataset = Dataset(training=False)\n"
      ]
    },
    {
      "cell_type": "code",
      "source": [
        ""
      ],
      "metadata": {
        "id": "2K8HkIKV9Wve"
      },
      "execution_count": null,
      "outputs": []
    },
    {
      "cell_type": "markdown",
      "metadata": {
        "id": "S9ara1M532HK"
      },
      "source": [
        "## Visualize some examples from the dataset\n"
      ]
    },
    {
      "cell_type": "code",
      "execution_count": null,
      "metadata": {
        "id": "9Su7_s3832HK",
        "colab": {
          "base_uri": "https://localhost:8080/",
          "height": 1000
        },
        "outputId": "62fc0440-61b6-4543-c403-a57cda9939c4"
      },
      "outputs": [
        {
          "output_type": "display_data",
          "data": {
            "text/plain": [
              "<Figure size 1440x1440 with 25 Axes>"
            ],
            "image/png": "[encoded data removed]"
          },
          "metadata": {
            "needs_background": "light"
          }
        }
      ],
      "source": [
        "_, axarr = plt.subplots(nrows=5, ncols=5, figsize=(20, 20))\n",
        "\n",
        "sample_keys = list(train_dataset.data.keys())\n",
        "\n",
        "for a in range(5):\n",
        "    for b in range(5):\n",
        "        temp_image = train_dataset.data[sample_keys[a]][b]\n",
        "        temp_image = np.stack((temp_image[:, :, 0],) * 3, axis=2)\n",
        "        temp_image *= 255\n",
        "        temp_image = np.clip(temp_image, 0, 255).astype(\"uint8\")\n",
        "        if b == 2:\n",
        "            axarr[a, b].set_title(\"Class : \" + sample_keys[a])\n",
        "        axarr[a, b].imshow(temp_image, cmap=\"gray\")\n",
        "        axarr[a, b].xaxis.set_visible(False)\n",
        "        axarr[a, b].yaxis.set_visible(False)\n",
        "plt.show()\n"
      ]
    },
    {
      "cell_type": "markdown",
      "metadata": {
        "id": "jTH9wwPD32HL"
      },
      "source": [
        "## Build the model\n"
      ]
    },
    {
      "cell_type": "code",
      "execution_count": null,
      "metadata": {
        "id": "lA5ggFbH32HM"
      },
      "outputs": [],
      "source": [
        "\n",
        "def conv_bn(x):\n",
        "    x = layers.Conv2D(filters=64, kernel_size=3, strides=2, padding=\"same\")(x)\n",
        "    x = layers.BatchNormalization()(x)\n",
        "    return layers.ReLU()(x)\n",
        "\n",
        "\n",
        "inputs = layers.Input(shape=(28, 28, 1))\n",
        "x = conv_bn(inputs)\n",
        "x = conv_bn(x)\n",
        "x = conv_bn(x)\n",
        "x = conv_bn(x)\n",
        "x = layers.Flatten()(x)\n",
        "outputs = layers.Dense(classes, activation=\"softmax\")(x)\n",
        "model = keras.Model(inputs=inputs, outputs=outputs)\n",
        "model.compile()\n",
        "optimizer = keras.optimizers.SGD(learning_rate=learning_rate)\n"
      ]
    },
    {
      "cell_type": "markdown",
      "metadata": {
        "id": "-TzQ5nXD32HM"
      },
      "source": [
        "## Train the model\n"
      ]
    },
    {
      "cell_type": "code",
      "execution_count": null,
      "metadata": {
        "id": "ieVVkZDs32HN",
        "colab": {
          "base_uri": "https://localhost:8080/"
        },
        "outputId": "c7d7aa1c-b2fc-42c4-b529-c45a6d9aa152"
      },
      "outputs": [
        {
          "output_type": "stream",
          "name": "stdout",
          "text": [
            "batch 0: train=0.600000 test=0.400000\n",
            "batch 100: train=0.400000 test=0.000000\n",
            "batch 200: train=1.000000 test=0.800000\n",
            "batch 300: train=1.000000 test=0.400000\n",
            "batch 400: train=1.000000 test=0.400000\n",
            "batch 500: train=1.000000 test=0.800000\n",
            "batch 600: train=1.000000 test=0.200000\n",
            "batch 700: train=1.000000 test=0.600000\n",
            "batch 800: train=1.000000 test=0.800000\n",
            "batch 900: train=0.200000 test=1.000000\n",
            "batch 1000: train=1.000000 test=1.000000\n",
            "batch 1100: train=1.000000 test=0.600000\n",
            "batch 1200: train=1.000000 test=0.800000\n",
            "batch 1300: train=1.000000 test=0.400000\n",
            "batch 1400: train=1.000000 test=0.800000\n",
            "batch 1500: train=1.000000 test=0.400000\n",
            "batch 1600: train=1.000000 test=0.400000\n",
            "batch 1700: train=0.600000 test=0.600000\n",
            "batch 1800: train=1.000000 test=0.400000\n",
            "batch 1900: train=1.000000 test=0.400000\n"
          ]
        }
      ],
      "source": [
        "training = []\n",
        "testing = []\n",
        "for meta_iter in range(meta_iters):\n",
        "    frac_done = meta_iter / meta_iters\n",
        "    cur_meta_step_size = (1 - frac_done) * meta_step_size\n",
        "    # Temporarily save the weights from the model.\n",
        "    old_vars = model.get_weights()\n",
        "    # Get a sample from the full dataset.\n",
        "    mini_dataset = train_dataset.get_mini_dataset(\n",
        "        inner_batch_size, inner_iters, train_shots, classes\n",
        "    )\n",
        "    for images, labels in mini_dataset:\n",
        "        with tf.GradientTape() as tape:\n",
        "            preds = model(images)\n",
        "            loss = keras.losses.sparse_categorical_crossentropy(labels, preds)\n",
        "        grads = tape.gradient(loss, model.trainable_weights)\n",
        "        optimizer.apply_gradients(zip(grads, model.trainable_weights))\n",
        "    new_vars = model.get_weights()\n",
        "    # Perform SGD for the meta step.\n",
        "    for var in range(len(new_vars)):\n",
        "        new_vars[var] = old_vars[var] + (\n",
        "            (new_vars[var] - old_vars[var]) * cur_meta_step_size\n",
        "        )\n",
        "    # After the meta-learning step, reload the newly-trained weights into the model.\n",
        "    model.set_weights(new_vars)\n",
        "    # Evaluation loop\n",
        "    if meta_iter % eval_interval == 0:\n",
        "        accuracies = []\n",
        "        for dataset in (train_dataset, test_dataset):\n",
        "            # Sample a mini dataset from the full dataset.\n",
        "            train_set, test_images, test_labels = dataset.get_mini_dataset(\n",
        "                eval_batch_size, eval_iters, shots, classes, split=True\n",
        "            )\n",
        "            old_vars = model.get_weights()\n",
        "            # Train on the samples and get the resulting accuracies.\n",
        "            for images, labels in train_set:\n",
        "                with tf.GradientTape() as tape:\n",
        "                    preds = model(images)\n",
        "                    loss = keras.losses.sparse_categorical_crossentropy(labels, preds)\n",
        "                grads = tape.gradient(loss, model.trainable_weights)\n",
        "                optimizer.apply_gradients(zip(grads, model.trainable_weights))\n",
        "            test_preds = model.predict(test_images)\n",
        "            test_preds = tf.argmax(test_preds).numpy()\n",
        "            num_correct = (test_preds == test_labels).sum()\n",
        "            # Reset the weights after getting the evaluation accuracies.\n",
        "            model.set_weights(old_vars)\n",
        "            accuracies.append(num_correct / classes)\n",
        "        training.append(accuracies[0])\n",
        "        testing.append(accuracies[1])\n",
        "        if meta_iter % 100 == 0:\n",
        "            print(\n",
        "                \"batch %d: train=%f test=%f\" % (meta_iter, accuracies[0], accuracies[1]) #not batch, isn't it meta iteration epoch?\n",
        "            )\n"
      ]
    },
    {
      "cell_type": "markdown",
      "metadata": {
        "id": "gdaTaNRh32HN"
      },
      "source": [
        "## Visualize Results\n"
      ]
    },
    {
      "cell_type": "code",
      "execution_count": null,
      "metadata": {
        "id": "uoibwwiV32HN",
        "colab": {
          "base_uri": "https://localhost:8080/",
          "height": 491
        },
        "outputId": "44f9a72d-4e2c-4e0f-98a2-b6b3af3a6528"
      },
      "outputs": [
        {
          "output_type": "display_data",
          "data": {
            "text/plain": [
              "<Figure size 432x288 with 1 Axes>"
            ],
            "image/png": "[encoded data removed]"
          },
          "metadata": {
            "needs_background": "light"
          }
        },
        {
          "output_type": "display_data",
          "data": {
            "text/plain": [
              "<Figure size 1440x1440 with 5 Axes>"
            ],
            "image/png": "[encoded data removed]"
          },
          "metadata": {
            "needs_background": "light"
          }
        }
      ],
      "source": [
        "# First, some preprocessing to smooth the training and testing arrays for display.\n",
        "window_length = 100\n",
        "train_s = np.r_[\n",
        "    training[window_length - 1 : 0 : -1], training, training[-1:-window_length:-1]\n",
        "]\n",
        "test_s = np.r_[\n",
        "    testing[window_length - 1 : 0 : -1], testing, testing[-1:-window_length:-1]\n",
        "]\n",
        "# w = np.hamming(window_length)\n",
        "w = np.ones(window_length)\n",
        "train_y = np.convolve(w / w.sum(), train_s, mode=\"valid\")\n",
        "test_y = np.convolve(w / w.sum(), test_s, mode=\"valid\")\n",
        "\n",
        "# Display the training accuracies.\n",
        "# x = np.arange(0, len(test_y), 1)\n",
        "# plt.plot(x, test_y, x, train_y)\n",
        "# plt.legend([\"test\", \"train\"])\n",
        "\n",
        "x = np.arange(0, len(test_y), 1)\n",
        "plt.plot(x, test_y, x, train_y)\n",
        "plt.legend([\"test\", \"train\"])\n",
        "\n",
        "plt.grid()\n",
        "\n",
        "train_set, test_images, test_labels = dataset.get_mini_dataset(\n",
        "    eval_batch_size, eval_iters, shots, classes, split=True\n",
        ")\n",
        "for images, labels in train_set:\n",
        "    with tf.GradientTape() as tape:\n",
        "        preds = model(images)\n",
        "        loss = keras.losses.sparse_categorical_crossentropy(labels, preds)\n",
        "    grads = tape.gradient(loss, model.trainable_weights)\n",
        "    optimizer.apply_gradients(zip(grads, model.trainable_weights))\n",
        "test_preds = model.predict(test_images)\n",
        "test_preds = tf.argmax(test_preds).numpy()\n",
        "\n",
        "_, axarr = plt.subplots(nrows=1, ncols=5, figsize=(20, 20))\n",
        "\n",
        "sample_keys = list(train_dataset.data.keys())\n",
        "\n",
        "for i, ax in zip(range(5), axarr):\n",
        "    temp_image = np.stack((test_images[i, :, :, 0],) * 3, axis=2)\n",
        "    temp_image *= 255\n",
        "    temp_image = np.clip(temp_image, 0, 255).astype(\"uint8\")\n",
        "    ax.set_title(\n",
        "        \"Label : {}, Prediction : {}\".format(int(test_labels[i]), test_preds[i])\n",
        "    )\n",
        "    ax.imshow(temp_image, cmap=\"gray\")\n",
        "    ax.xaxis.set_visible(False)\n",
        "    ax.yaxis.set_visible(False)\n",
        "plt.show()\n"
      ]
    },
    {
      "cell_type": "markdown",
      "source": [
        "# Experiments on Cifar100\n",
        "Cifar100 -> Omniglot\n",
        "Cifar100 -> MNIST\n"
      ],
      "metadata": {
        "id": "9T4smzuDMIEt"
      }
    },
    {
      "cell_type": "markdown",
      "source": [
        "Libraries"
      ],
      "metadata": {
        "id": "1MiAL3SONZaz"
      }
    },
    {
      "cell_type": "code",
      "source": [
        "import urllib3\n",
        "import matplotlib.pyplot as plt\n",
        "import numpy as np\n",
        "import random\n",
        "import tensorflow as tf\n",
        "from tensorflow import keras\n",
        "from tensorflow.keras import layers\n",
        "import tensorflow_datasets as tfds"
      ],
      "metadata": {
        "id": "PndxHtBFNakG"
      },
      "execution_count": null,
      "outputs": []
    },
    {
      "cell_type": "markdown",
      "source": [
        "## Make Training Model and Visualizing into a function"
      ],
      "metadata": {
        "id": "3AHE_1tyMTnk"
      }
    },
    {
      "cell_type": "code",
      "source": [
        "class Dataset_Experiment:\n",
        "    # This class will facilitate the creation of a few-shot dataset\n",
        "    # from the Omniglot dataset that can be sampled from quickly while also\n",
        "    # allowing to create new labels at the same time.\n",
        "    def __init__(self,training,dataset_name):\n",
        "        # Download the tfrecord files containing the omniglot data and convert to a\n",
        "        # dataset.\n",
        "        # @param: dataset_name (str): the dataset that you want to download\n",
        "        split = \"train\" if training else \"test\"\n",
        "        if split == \"test\":\n",
        "          ds = tfds.load(dataset_name, split=split, as_supervised=True, shuffle_files=False)\n",
        "          # We want to test the model on some unseen data later after training\n",
        "          self.unseen_data = tfds.load(dataset_name, split='train', as_supervised=True, shuffle_files=False)\n",
        "        if split == \"train\":\n",
        "          ds = tfds.load(dataset_name, split=split, as_supervised=True, shuffle_files=False)\n",
        "        # Iterate over the dataset to get each individual image and its class,\n",
        "        # and put that data into a dictionary.\n",
        "\n",
        "\n",
        "        self.saved_split = split\n",
        "        self.data = {}\n",
        "\n",
        "        def extraction(image, label):\n",
        "            # This function will shrink the Omniglot images to the desired size,\n",
        "            # scale pixel values and convert the RGB image to grayscale\n",
        "            print(image.shape)            \n",
        "            image = tf.image.convert_image_dtype(image, tf.float32)\n",
        "\n",
        "            if self.saved_split == \"train\" or True:\n",
        "              image = tf.image.rgb_to_grayscale(image)\n",
        "            image = tf.image.resize(image, [28, 28])\n",
        "            return image, label\n",
        "\n",
        "        for image, label in ds.map(extraction):\n",
        "            image = image.numpy()\n",
        "            label = str(label.numpy())\n",
        "            if label not in self.data:\n",
        "                self.data[label] = []\n",
        "            self.data[label].append(image)\n",
        "        self.labels = list(self.data.keys())\n",
        "\n",
        "        if split == \"test\":\n",
        "          self.unseen_images = {}\n",
        "          for image,label in self.unseen_data.map(extraction):\n",
        "            image = image.numpy()\n",
        "            label = str(label.numpy())\n",
        "            if label not in self.unseen_images:\n",
        "              self.unseen_images[label] = []\n",
        "            self.unseen_images[label].append(image)\n",
        "          self.unseen_labels = list(self.unseen_images.keys())\n",
        "\n",
        "    def get_mini_dataset(\n",
        "        self, batch_size, repetitions, shots, num_classes, split=False\n",
        "    ):\n",
        "        temp_labels = np.zeros(shape=(num_classes * shots))\n",
        "        temp_images = np.zeros(shape=(num_classes * shots, 28, 28, 1))\n",
        "        if split:\n",
        "            test_labels = np.zeros(shape=(num_classes))\n",
        "            test_images = np.zeros(shape=(num_classes, 28, 28, 1))\n",
        "\n",
        "        # Get a random subset of labels from the entire label set.\n",
        "        label_subset = random.choices(self.labels, k=num_classes)\n",
        "        for class_idx, class_obj in enumerate(label_subset):\n",
        "            # Use enumerated index value as a temporary label for mini-batch in\n",
        "            # few shot learning.\n",
        "            temp_labels[class_idx * shots : (class_idx + 1) * shots] = class_idx\n",
        "            # If creating a split dataset for testing, select an extra sample from each\n",
        "            # label to create the test dataset.\n",
        "            if split:\n",
        "                test_labels[class_idx] = class_idx\n",
        "                images_to_split = random.choices(\n",
        "                    self.data[label_subset[class_idx]], k=shots + 1\n",
        "                )\n",
        "                test_images[class_idx] = images_to_split[-1]#np.mean(images_to_split[-1],axis=2,keepdims=True)#added to reduce dims to 28,28,1\n",
        "                temp_images[\n",
        "                    class_idx * shots : (class_idx + 1) * shots\n",
        "                ] = images_to_split[-1]#np.mean(images_to_split[-1],axis=2,keepdims=True)\n",
        "            else:\n",
        "                # For each index in the randomly selected label_subset, sample the\n",
        "                # necessary number of images.\n",
        "                temp_images[\n",
        "                    class_idx * shots : (class_idx + 1) * shots\n",
        "                ] = random.choices(self.data[label_subset[class_idx]], k=shots)\n",
        "\n",
        "        dataset = tf.data.Dataset.from_tensor_slices(\n",
        "            (temp_images.astype(np.float32), temp_labels.astype(np.int32))\n",
        "        )\n",
        "        dataset = dataset.shuffle(100).batch(batch_size).repeat(repetitions)\n",
        "        if split:\n",
        "            return dataset, test_images, test_labels\n",
        "        return dataset\n",
        "\n",
        "    def get_mini_dataset_unseen(\n",
        "        self, batch_size, repetitions, shots, num_classes, split=False\n",
        "    ):\n",
        "        temp_labels = np.zeros(shape=(num_classes * shots))\n",
        "        temp_images = np.zeros(shape=(num_classes * shots, 28, 28, 1))\n",
        "        if split:\n",
        "            test_labels = np.zeros(shape=(num_classes))\n",
        "            test_images = np.zeros(shape=(num_classes, 28, 28, 1))\n",
        "\n",
        "        # Get a random subset of labels from the entire label set.\n",
        "        label_subset = random.choices(self.unseen_labels, k=num_classes)\n",
        "        for class_idx, class_obj in enumerate(label_subset):\n",
        "            # Use enumerated index value as a temporary label for mini-batch in\n",
        "            # few shot learning.\n",
        "            temp_labels[class_idx * shots : (class_idx + 1) * shots] = class_idx\n",
        "            # If creating a split dataset for testing, select an extra sample from each\n",
        "            # label to create the test dataset.\n",
        "            if split:\n",
        "                test_labels[class_idx] = class_idx\n",
        "                images_to_split = random.choices(\n",
        "                    self.unseen_images[label_subset[class_idx]], k=shots + 1\n",
        "                )\n",
        "                test_images[class_idx] = images_to_split[-1]#np.mean(images_to_split[-1],axis=2,keepdims=True)#added to reduce dims to 28,28,1\n",
        "                temp_images[\n",
        "                    class_idx * shots : (class_idx + 1) * shots\n",
        "                ] = images_to_split[-1]#np.mean(images_to_split[-1],axis=2,keepdims=True)\n",
        "            else:\n",
        "                # For each index in the randomly selected label_subset, sample the\n",
        "                # necessary number of images.\n",
        "                temp_images[\n",
        "                    class_idx * shots : (class_idx + 1) * shots\n",
        "                ] = random.choices(self.unseen_images[label_subset[class_idx]], k=shots)\n",
        "\n",
        "        dataset = tf.data.Dataset.from_tensor_slices(\n",
        "            (temp_images.astype(np.float32), temp_labels.astype(np.int32))\n",
        "        )\n",
        "        dataset = dataset.shuffle(100).batch(batch_size).repeat(repetitions)\n",
        "        if split:\n",
        "            return dataset, test_images, test_labels\n",
        "        return dataset\n",
        "\n",
        "\n",
        "# Helper for making the model\n",
        "def conv_bn(x):\n",
        "    x = layers.Conv2D(filters=64, kernel_size=3, strides=2, padding=\"same\")(x)\n",
        "    x = layers.BatchNormalization()(x)\n",
        "    return layers.ReLU()(x)\n",
        "\n",
        "def Reptile_Experiment(train='cifar100',test='omniglot'):\n",
        "  '''\n",
        "  Will run Reptile training on train and testing on test\n",
        "  @param: train (str): what data set to train on\n",
        "  @param: test (str): what data set to test on\n",
        "  '''\n",
        "  # First we load the data:\n",
        "  urllib3.disable_warnings()  # Disable SSL warnings that may happen during download.\n",
        "  train_dataset = Dataset_Experiment(training=True,dataset_name=train)\n",
        "  test_dataset = Dataset_Experiment(training=False,dataset_name=test)\n",
        "  # HyperParameters:\n",
        "  learning_rate = 0.003\n",
        "  meta_step_size = 0.25\n",
        "\n",
        "  inner_batch_size = 25\n",
        "  eval_batch_size = 25\n",
        "\n",
        "  #meta iters should be 2000, previously 500\n",
        "  meta_iters = 200  # 2000\n",
        "  eval_iters = 5\n",
        "  inner_iters = 4\n",
        "\n",
        "  eval_interval = 1\n",
        "  train_shots = 20\n",
        "  shots = 5\n",
        "  classes = 5\n",
        "\n",
        "  # Make the Model\n",
        "  inputs = layers.Input(shape=(28, 28, 1))\n",
        "  x = conv_bn(inputs)\n",
        "  x = conv_bn(x)\n",
        "  x = conv_bn(x)\n",
        "  x = conv_bn(x)\n",
        "  x = layers.Flatten()(x)\n",
        "  outputs = layers.Dense(classes, activation=\"softmax\")(x)\n",
        "  model = keras.Model(inputs=inputs, outputs=outputs)\n",
        "  model.compile()\n",
        "  optimizer = keras.optimizers.SGD(learning_rate=learning_rate)\n",
        "  \n",
        "  # Perform Reptile Training\n",
        "  training = []\n",
        "  testing = []\n",
        "  for meta_iter in range(meta_iters):\n",
        "      frac_done = meta_iter / meta_iters\n",
        "      cur_meta_step_size = (1 - frac_done) * meta_step_size\n",
        "      # Temporarily save the weights from the model.\n",
        "      old_vars = model.get_weights()\n",
        "      # Get a sample from the full dataset.\n",
        "      mini_dataset = train_dataset.get_mini_dataset(\n",
        "          inner_batch_size, inner_iters, train_shots, classes\n",
        "      )\n",
        "      for images, labels in mini_dataset:\n",
        "          with tf.GradientTape() as tape:\n",
        "              preds = model(images)\n",
        "              loss = keras.losses.sparse_categorical_crossentropy(labels, preds)\n",
        "          grads = tape.gradient(loss, model.trainable_weights)\n",
        "          optimizer.apply_gradients(zip(grads, model.trainable_weights))\n",
        "      new_vars = model.get_weights()\n",
        "      # Perform SGD for the meta step.\n",
        "      for var in range(len(new_vars)):\n",
        "          new_vars[var] = old_vars[var] + (\n",
        "              (new_vars[var] - old_vars[var]) * cur_meta_step_size\n",
        "          )\n",
        "      # After the meta-learning step, reload the newly-trained weights into the model.\n",
        "      model.set_weights(new_vars)\n",
        "      # Evaluation loop\n",
        "      if meta_iter % eval_interval == 0:\n",
        "          accuracies = []\n",
        "          for dataset in (train_dataset, test_dataset):\n",
        "              # Sample a mini dataset from the full dataset.\n",
        "              train_set, test_images, test_labels = dataset.get_mini_dataset(\n",
        "                  eval_batch_size, eval_iters, shots, classes, split=True\n",
        "              )\n",
        "              old_vars = model.get_weights()\n",
        "              # Train on the samples and get the resulting accuracies.\n",
        "              for images, labels in train_set:\n",
        "                  with tf.GradientTape() as tape:\n",
        "                      preds = model(images)\n",
        "                      loss = keras.losses.sparse_categorical_crossentropy(labels, preds)\n",
        "                  grads = tape.gradient(loss, model.trainable_weights)\n",
        "                  optimizer.apply_gradients(zip(grads, model.trainable_weights))\n",
        "              test_preds = model.predict(test_images)\n",
        "              test_preds = tf.argmax(test_preds).numpy()\n",
        "              num_correct = (test_preds == test_labels).sum()\n",
        "              # Reset the weights after getting the evaluation accuracies.\n",
        "              model.set_weights(old_vars)\n",
        "              accuracies.append(num_correct / classes)\n",
        "          training.append(accuracies[0])\n",
        "          testing.append(accuracies[1])\n",
        "          if meta_iter % 100 == 0:\n",
        "              print(\n",
        "                  \"batch %d: train=%f test=%f\" % (meta_iter, accuracies[0], accuracies[1])\n",
        "              )\n",
        "  # Visualize Results:\n",
        "  # First, some preprocessing to smooth the training and testing arrays for display.\n",
        "  window_length = 100\n",
        "  train_s = np.r_[\n",
        "      training[window_length - 1 : 0 : -1], training, training[-1:-window_length:-1]\n",
        "  ]\n",
        "  test_s = np.r_[\n",
        "      testing[window_length - 1 : 0 : -1], testing, testing[-1:-window_length:-1]\n",
        "  ]\n",
        "  # w = np.hamming(window_length)\n",
        "  w = np.ones(window_length)\n",
        "  train_y = np.convolve(w / w.sum(), train_s, mode=\"valid\")\n",
        "  test_y = np.convolve(w / w.sum(), test_s, mode=\"valid\")\n",
        "\n",
        "  # Display the training accuracies.\n",
        "  # x = np.arange(0, len(test_y), 1)\n",
        "  # plt.plot(x, test_y, x, train_y)\n",
        "  # plt.legend([\"test\", \"train\"])\n",
        "\n",
        "  x = np.arange(0, len(test_y), 1)\n",
        "  plt.plot(x, test_y, x, train_y)\n",
        "  plt.legend([\"test\", \"train\"])\n",
        "\n",
        "  plt.grid()\n",
        "\n",
        "  # Now plot a few examples\n",
        "  print(\"Training / Testing Phases over.\")\n",
        "  print(\"Let's see how it does on unseen data.\")\n",
        "\n",
        "  train_set, test_images, test_labels = dataset.get_mini_dataset_unseen(\n",
        "      eval_batch_size, eval_iters, shots, classes, split=True\n",
        "  )\n",
        "  for images, labels in train_set:\n",
        "      with tf.GradientTape() as tape:\n",
        "          preds = model(images)\n",
        "          loss = keras.losses.sparse_categorical_crossentropy(labels, preds)\n",
        "      grads = tape.gradient(loss, model.trainable_weights)\n",
        "      optimizer.apply_gradients(zip(grads, model.trainable_weights))\n",
        "  test_preds = model.predict(test_images)\n",
        "  test_preds = tf.argmax(test_preds).numpy()\n",
        "\n",
        "  print(\"Length of Test Labels is \",len(test_labels))\n",
        "  print(\"Length of Test preds is \",len(test_preds))\n",
        "  print(\"\\nTest Labels are \",test_labels)\n",
        "  print(\"\\nTest Predictions are \",test_preds)\n",
        "  # Let's compare test_preds vs. labels\n",
        "  correct,total = 0,0\n",
        "  for pred,true in zip(test_preds,test_labels):\n",
        "    if pred == true:\n",
        "      correct+=1\n",
        "    total+=1\n",
        "  print(\"Accuracy on unseen data is \",correct/total)\n",
        "\n",
        "  _, axarr = plt.subplots(nrows=1, ncols=5, figsize=(20, 20))\n",
        "\n",
        "  sample_keys = list(train_dataset.data.keys())\n",
        "\n",
        "  for i, ax in zip(range(5), axarr):\n",
        "      temp_image = np.stack((test_images[i, :, :, 0],) * 3, axis=2)\n",
        "      temp_image *= 255\n",
        "      temp_image = np.clip(temp_image, 0, 255).astype(\"uint8\")\n",
        "      ax.set_title(\n",
        "          \"Label : {}, Prediction : {}\".format(int(test_labels[i]), test_preds[i])\n",
        "      )\n",
        "      ax.imshow(temp_image, cmap=\"gray\")\n",
        "      ax.xaxis.set_visible(False)\n",
        "      ax.yaxis.set_visible(False)\n",
        "  plt.show()"
      ],
      "metadata": {
        "id": "kzkVyTlCMTEa"
      },
      "execution_count": null,
      "outputs": []
    },
    {
      "cell_type": "markdown",
      "source": [
        "##### **Cifar100**->MNIST"
      ],
      "metadata": {
        "id": "E9pJovQlOcie"
      }
    },
    {
      "cell_type": "code",
      "source": [
        "Reptile_Experiment(train='cifar100',test='mnist')"
      ],
      "metadata": {
        "colab": {
          "base_uri": "https://localhost:8080/",
          "height": 873
        },
        "id": "xKAqrsKdOekp",
        "outputId": "6638e97c-c1a2-4971-f09e-c71072cad717"
      },
      "execution_count": null,
      "outputs": [
        {
          "output_type": "stream",
          "name": "stdout",
          "text": [
            "(32, 32, 3)\n",
            "(28, 28, 1)\n",
            "batch 0: train=0.200000 test=0.200000\n",
            "batch 100: train=0.000000 test=0.600000\n",
            "batch 200: train=0.200000 test=0.400000\n",
            "batch 300: train=0.000000 test=0.600000\n",
            "batch 400: train=0.000000 test=1.000000\n",
            "batch 500: train=0.400000 test=1.000000\n",
            "batch 600: train=0.200000 test=1.000000\n",
            "batch 700: train=0.200000 test=0.800000\n",
            "batch 800: train=1.000000 test=0.600000\n",
            "batch 900: train=0.400000 test=0.400000\n",
            "batch 1000: train=0.400000 test=0.000000\n",
            "batch 1100: train=0.400000 test=0.600000\n",
            "batch 1200: train=0.400000 test=0.800000\n",
            "batch 1300: train=0.000000 test=0.400000\n",
            "batch 1400: train=0.400000 test=0.200000\n",
            "batch 1500: train=0.400000 test=0.400000\n",
            "batch 1600: train=0.000000 test=0.800000\n",
            "batch 1700: train=0.400000 test=0.400000\n",
            "batch 1800: train=0.400000 test=0.200000\n",
            "batch 1900: train=0.400000 test=0.600000\n"
          ]
        },
        {
          "output_type": "display_data",
          "data": {
            "text/plain": [
              "<Figure size 432x288 with 1 Axes>"
            ],
            "image/png": "[encoded data removed]"
          },
          "metadata": {
            "needs_background": "light"
          }
        },
        {
          "output_type": "display_data",
          "data": {
            "text/plain": [
              "<Figure size 1440x1440 with 5 Axes>"
            ],
            "image/png": "[encoded data removed]"
          },
          "metadata": {
            "needs_background": "light"
          }
        }
      ]
    },
    {
      "cell_type": "markdown",
      "source": [
        "##### Cifar100->Omniglot"
      ],
      "metadata": {
        "id": "RKlj4nvbOaxF"
      }
    },
    {
      "cell_type": "code",
      "source": [
        "Reptile_Experiment(train='cifar100',test='omniglot')"
      ],
      "metadata": {
        "colab": {
          "base_uri": "https://localhost:8080/",
          "height": 679
        },
        "id": "3qhW-Q7GJ4UR",
        "outputId": "586fb40a-5156-4171-acec-036b229d8387"
      },
      "execution_count": null,
      "outputs": [
        {
          "output_type": "stream",
          "name": "stdout",
          "text": [
            "(32, 32, 3)\n",
            "(105, 105, 3)\n",
            "(105, 105, 3)\n",
            "batch 0: train=0.800000 test=1.000000\n",
            "batch 100: train=1.000000 test=1.000000\n",
            "Training / Testing Phases over.\n",
            "Let's see how it does on unseen data.\n",
            "Length of Test Labels is  5\n",
            "Length of Test preds is  5\n",
            "\n",
            "Test Labels are  [0. 1. 2. 3. 4.]\n",
            "\n",
            "Test Predictions are  [1 1 4 3 4]\n",
            "Accuracy on unseen data is  0.6\n"
          ]
        },
        {
          "output_type": "display_data",
          "data": {
            "text/plain": [
              "<Figure size 432x288 with 1 Axes>"
            ],
            "image/png": "[encoded data removed]"
          },
          "metadata": {
            "needs_background": "light"
          }
        },
        {
          "output_type": "display_data",
          "data": {
            "text/plain": [
              "<Figure size 1440x1440 with 5 Axes>"
            ],
            "image/png": "[encoded data removed]"
          },
          "metadata": {
            "needs_background": "light"
          }
        }
      ]
    },
    {
      "cell_type": "markdown",
      "source": [
        "Below is output from April 27th"
      ],
      "metadata": {
        "id": "aM8VM2WyJzdK"
      }
    },
    {
      "cell_type": "code",
      "source": [
        "Reptile_Experiment(train='cifar100',test='omniglot')"
      ],
      "metadata": {
        "colab": {
          "base_uri": "https://localhost:8080/",
          "height": 873
        },
        "id": "ffJCHBM4OjSX",
        "outputId": "3364d2c7-c895-4b41-da32-7bc930adf24d"
      },
      "execution_count": null,
      "outputs": [
        {
          "output_type": "stream",
          "name": "stdout",
          "text": [
            "(32, 32, 3)\n",
            "(105, 105, 3)\n",
            "batch 0: train=1.000000 test=1.000000\n",
            "batch 100: train=1.000000 test=1.000000\n",
            "batch 200: train=1.000000 test=0.400000\n",
            "batch 300: train=1.000000 test=0.600000\n",
            "batch 400: train=1.000000 test=0.400000\n",
            "batch 500: train=1.000000 test=0.400000\n",
            "batch 600: train=1.000000 test=0.200000\n",
            "batch 700: train=1.000000 test=0.200000\n",
            "batch 800: train=1.000000 test=0.400000\n",
            "batch 900: train=1.000000 test=0.400000\n",
            "batch 1000: train=1.000000 test=0.200000\n",
            "batch 1100: train=1.000000 test=0.200000\n",
            "batch 1200: train=1.000000 test=0.200000\n",
            "batch 1300: train=1.000000 test=0.400000\n",
            "batch 1400: train=1.000000 test=0.200000\n",
            "batch 1500: train=1.000000 test=0.400000\n",
            "batch 1600: train=1.000000 test=0.400000\n",
            "batch 1700: train=1.000000 test=0.200000\n",
            "batch 1800: train=1.000000 test=0.200000\n",
            "batch 1900: train=1.000000 test=0.200000\n"
          ]
        },
        {
          "output_type": "display_data",
          "data": {
            "text/plain": [
              "<Figure size 432x288 with 1 Axes>"
            ],
            "image/png": "[encoded data removed]"
          },
          "metadata": {
            "needs_background": "light"
          }
        },
        {
          "output_type": "display_data",
          "data": {
            "text/plain": [
              "<Figure size 1440x1440 with 5 Axes>"
            ],
            "image/png": "[encoded data removed]"
          },
          "metadata": {
            "needs_background": "light"
          }
        }
      ]
    },
    {
      "cell_type": "markdown",
      "source": [
        "Train Reptile for 200, and then test on new unseen data"
      ],
      "metadata": {
        "id": "DDSBQz8yHAUu"
      }
    },
    {
      "cell_type": "code",
      "source": [
        ""
      ],
      "metadata": {
        "id": "RbUnjDMEHC2b"
      },
      "execution_count": null,
      "outputs": []
    }
  ]
}